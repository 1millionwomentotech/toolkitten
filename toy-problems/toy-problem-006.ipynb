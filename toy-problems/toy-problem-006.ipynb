{
 "cells": [
  {
   "cell_type": "markdown",
   "metadata": {},
   "source": [
    "# Python Challenge 4\n",
    "\n",
    "challenge URL: http://www.pythonchallenge.com/pc/def/linkedlist.html"
   ]
  },
  {
   "cell_type": "code",
   "execution_count": 9,
   "metadata": {
    "collapsed": false
   },
   "outputs": [],
   "source": [
    "import urllib.request\n",
    "import re\n"
   ]
  },
  {
   "cell_type": "code",
   "execution_count": 10,
   "metadata": {
    "collapsed": false
   },
   "outputs": [],
   "source": [
    "uri = \"http://www.pythonchallenge.com/pc/def/linkedlist.php?nothing=%s\"\n",
    "num = \"12345\""
   ]
  },
  {
   "cell_type": "code",
   "execution_count": 11,
   "metadata": {
    "collapsed": false
   },
   "outputs": [
    {
     "data": {
      "text/plain": [
       "'and the next nothing is 44827'"
      ]
     },
     "execution_count": 11,
     "metadata": {},
     "output_type": "execute_result"
    }
   ],
   "source": [
    "content = urllib.request.urlopen(uri % num).read().decode()\n",
    "content"
   ]
  },
  {
   "cell_type": "code",
   "execution_count": 12,
   "metadata": {
    "collapsed": false
   },
   "outputs": [
    {
     "data": {
      "text/plain": [
       "'44827'"
      ]
     },
     "execution_count": 12,
     "metadata": {},
     "output_type": "execute_result"
    }
   ],
   "source": [
    "match = re.search(\"and the next nothing is (\\d+)\", content)\n",
    "match.group(1)"
   ]
  },
  {
   "cell_type": "code",
   "execution_count": 14,
   "metadata": {
    "collapsed": false
   },
   "outputs": [
    {
     "name": "stdout",
     "output_type": "stream",
     "text": [
      "and the next nothing is 25357\n",
      "and the next nothing is 89879\n",
      "and the next nothing is 80119\n",
      "and the next nothing is 50290\n",
      "and the next nothing is 9297\n",
      "and the next nothing is 30571\n",
      "and the next nothing is 7414\n",
      "and the next nothing is 30978\n",
      "and the next nothing is 16408\n",
      "and the next nothing is 80109\n",
      "and the next nothing is 55736\n",
      "and the next nothing is 15357\n",
      "and the next nothing is 80887\n",
      "and the next nothing is 35014\n",
      "and the next nothing is 16523\n",
      "and the next nothing is 50286\n",
      "and the next nothing is 34813\n",
      "and the next nothing is 77562\n",
      "and the next nothing is 54746\n",
      "and the next nothing is 22680\n",
      "and the next nothing is 19705\n",
      "and the next nothing is 77000\n",
      "and the next nothing is 27634\n",
      "and the next nothing is 21008\n",
      "and the next nothing is 64994\n",
      "and the next nothing is 66109\n",
      "and the next nothing is 37855\n",
      "and the next nothing is 36383\n",
      "and the next nothing is 68548\n",
      "and the next nothing is 96070\n",
      "and the next nothing is 83051\n",
      "and the next nothing is 58026\n",
      "and the next nothing is 44726\n",
      "and the next nothing is 35748\n",
      "and the next nothing is 61287\n",
      "and the next nothing is 559\n",
      "and the next nothing is 81318\n",
      "and the next nothing is 50443\n",
      "and the next nothing is 1570\n",
      "and the next nothing is 75244\n",
      "and the next nothing is 56265\n",
      "and the next nothing is 17694\n",
      "and the next nothing is 48033\n",
      "and the next nothing is 56523\n",
      "and the next nothing is 51253\n",
      "and the next nothing is 85750\n",
      "and the next nothing is 42760\n",
      "and the next nothing is 11877\n",
      "and the next nothing is 15962\n",
      "and the next nothing is 75494\n",
      "and the next nothing is 87283\n",
      "and the next nothing is 40396\n",
      "and the next nothing is 49574\n",
      "and the next nothing is 82682\n",
      "There maybe misleading numbers in the \n",
      "text. One example is 82683. Look only for the next nothing and the next nothing is 63579\n",
      "and the next nothing is 37278\n",
      "and the next nothing is 53548\n",
      "and the next nothing is 66081\n",
      "and the next nothing is 67753\n",
      "and the next nothing is 56337\n",
      "and the next nothing is 3356\n",
      "and the next nothing is 94525\n",
      "and the next nothing is 89574\n",
      "and the next nothing is 4413\n",
      "and the next nothing is 82294\n",
      "and the next nothing is 56060\n",
      "and the next nothing is 95493\n",
      "and the next nothing is 80865\n",
      "and the next nothing is 66242\n",
      "and the next nothing is 16065\n",
      "and the next nothing is 62145\n",
      "and the next nothing is 23147\n",
      "and the next nothing is 83763\n",
      "and the next nothing is 62381\n",
      "and the next nothing is 76841\n",
      "and the next nothing is 91706\n",
      "and the next nothing is 9268\n",
      "and the next nothing is 64814\n",
      "and the next nothing is 80809\n",
      "and the next nothing is 14039\n",
      "and the next nothing is 73355\n",
      "and the next nothing is 81905\n",
      "and the next nothing is 36402\n",
      "and the next nothing is 27221\n",
      "and the next nothing is 79607\n",
      "and the next nothing is 91763\n",
      "and the next nothing is 11631\n",
      "and the next nothing is 76396\n",
      "and the next nothing is 69905\n",
      "and the next nothing is 11073\n",
      "and the next nothing is 71281\n",
      "and the next nothing is 54345\n",
      "and the next nothing is 19047\n",
      "and the next nothing is 34376\n",
      "and the next nothing is 3193\n",
      "and the next nothing is 74258\n",
      "and the next nothing is 62712\n",
      "and the next nothing is 1823\n",
      "and the next nothing is 21232\n",
      "and the next nothing is 87890\n",
      "and the next nothing is 21545\n",
      "and the next nothing is 37136\n",
      "and the next nothing is 23060\n",
      "and the next nothing is 5385\n",
      "and the next nothing is 4620\n",
      "and the next nothing is 39111\n",
      "and the next nothing is 35914\n",
      "and the next nothing is 60310\n",
      "and the next nothing is 19178\n",
      "and the next nothing is 44671\n",
      "and the next nothing is 45736\n",
      "and the next nothing is 9216\n",
      "and the next nothing is 12585\n",
      "and the next nothing is 11302\n",
      "and the next nothing is 33096\n",
      "and the next nothing is 13967\n",
      "and the next nothing is 57004\n",
      "and the next nothing is 64196\n",
      "and the next nothing is 73929\n",
      "and the next nothing is 24800\n",
      "and the next nothing is 25081\n",
      "and the next nothing is 90033\n",
      "and the next nothing is 45919\n",
      "and the next nothing is 54827\n",
      "and the next nothing is 73950\n",
      "and the next nothing is 56978\n",
      "and the next nothing is 8133\n",
      "and the next nothing is 61900\n",
      "and the next nothing is 47769\n",
      "and the next nothing is 631\n",
      "and the next nothing is 2284\n",
      "and the next nothing is 60074\n",
      "and the next nothing is 35959\n",
      "and the next nothing is 57158\n",
      "and the next nothing is 90990\n",
      "and the next nothing is 27935\n",
      "and the next nothing is 99927\n",
      "and the next nothing is 41785\n",
      "and the next nothing is 32660\n",
      "and the next nothing is 4328\n",
      "and the next nothing is 42067\n",
      "and the next nothing is 8743\n",
      "and the next nothing is 38613\n",
      "and the next nothing is 21100\n",
      "and the next nothing is 77864\n",
      "and the next nothing is 6523\n",
      "and the next nothing is 6927\n",
      "and the next nothing is 82930\n",
      "and the next nothing is 35846\n",
      "and the next nothing is 31785\n",
      "and the next nothing is 41846\n",
      "and the next nothing is 72387\n",
      "and the next nothing is 59334\n",
      "and the next nothing is 65520\n",
      "and the next nothing is 93781\n",
      "and the next nothing is 55840\n",
      "and the next nothing is 80842\n",
      "and the next nothing is 59022\n",
      "and the next nothing is 23298\n",
      "and the next nothing is 27709\n",
      "and the next nothing is 96791\n",
      "and the next nothing is 75635\n",
      "and the next nothing is 52899\n",
      "and the next nothing is 66831\n",
      "peak.html\n"
     ]
    }
   ],
   "source": [
    "pattern = re.compile(\"and the next nothing is (\\d+)\")\n",
    "num = str(16044 / 2) # 16044 is not equal to the string \"16044\"\n",
    "while True:\n",
    "    content = urllib.request.urlopen(uri % num).read().decode('utf-8')\n",
    "    print(content)\n",
    "    match = pattern.search(content)\n",
    "    if match == None:\n",
    "        break\n",
    "    num = match.group(1)"
   ]
  },
  {
   "cell_type": "markdown",
   "metadata": {},
   "source": [
    "# Advanced\n",
    "\n",
    "https://www.geeksforgeeks.org/inplace-rotate-square-matrix-by-90-degrees/"
   ]
  }
 ],
 "metadata": {
  "kernelspec": {
   "display_name": "Python 3",
   "language": "python",
   "name": "python3"
  },
  "language_info": {
   "codemirror_mode": {
    "name": "ipython",
    "version": 3
   },
   "file_extension": ".py",
   "mimetype": "text/x-python",
   "name": "python",
   "nbconvert_exporter": "python",
   "pygments_lexer": "ipython3",
   "version": "3.5.1"
  }
 },
 "nbformat": 4,
 "nbformat_minor": 0
}
