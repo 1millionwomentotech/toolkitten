{
 "cells": [
  {
   "cell_type": "markdown",
   "metadata": {},
   "source": [
    "# 1millionwomentotech SummerOfCode\n",
    "\n",
    "## Intro to AI: Week 4 Day 3"
   ]
  },
  {
   "cell_type": "code",
   "execution_count": 35,
   "metadata": {
    "collapsed": false
   },
   "outputs": [
    {
     "name": "stdout",
     "output_type": "stream",
     "text": [
      "I did hours of research on strollers... contemplating between the First Years Indigo and theBumbleride Flyer Reversible Handle Stroller with 7\" Wheels, Seagrass. I finally settled on the Indigo stroller because the price was right and the features I wanted were all there. I purchased the stroller and matchingThe First Years Via Infant Car Seat, Abstract O'scar seat. My son was born in the winter and I didn't use the Indigo stroller regularly until about two months ago. For the first week, the stroller was wonderful. What I had initially liked most about the stroller was that I could easily attach the matching First Years Via car seat. In addition, the ride was smooth, quiet, and comfy. The stroller was a breeze to fold. Then, about two weeks into regular use, I started to notice the quality of the stroller diminish quickly. Here is what started to happen:(1) SQUEAKY WHEELS. The wheels started squeaking terribly. I'd oil them and within a few days the stroller was squeaking again! I'd be in a store and people would turn there heads to see who had the annoyingly loud stroller.(2) VIA CAR SEAT WOULD GET CAUGHT. This is what really bothered me. I could live with the squeaking, but this I could not. My son is 6 months old and we still use the infant car seat regularly. One day the car seat began to get stuck inside the left car seat stroller locking mechanism. We thought maybe it was our son's weight causing the problem, so we took him out of the car seat and tried again. No luck! We still couldn't get the car seat out. After fidgeting with the stroller and car seat for nearly 30minutes, we finally got the car seat unstuck! To test things out to see whether or not it was the stroller or car seat causing the problem, we decided to attached seat that came with the stroller. That too would get stuck and we wrestled around with it until it miraculously came unstuck.Unfortunately, this stroller just had to be returned (thank goodness for Amazon's 365 day return policy on baby items). As much as I liked its other features, I couldn't put up with its defective qualities. Perhaps I received a defective stroller AND car seat but I find that really hard to believe.In addition to it being defective, here is what else I didn't like about the stroller.(1) BULKY. I knew when I purchased this stroller that it would be a standard size stroller but I still feel it was unnecessarily bulky. In order to fold it up, you have to remove the seat and then fold up the frame. Before I had my son I didn't think this was a big deal. Now I know better. I'd recommend you find a one piece fold-up stroller like the Bumbleride Flyer.(2) NO CUPHOLDERS. There are no cup holders for the child or adult using the stroller. At the time I purchased the stroller, there were also no accessories available that could attach to the stroller. I think this is the huge oversight.(3) SEAT HAD TO BE REMOVED. I really found it annoying that I had to remove the seat in order to collapse the stroller or switch the stroller from back to forward facing. As I said earlier, I initially thought this was a frivolous disadvantage but I now think otherwise. Other strollers that have the same back to forward facing option allow you to simply switch the direction of the handles without having to remove the seat. If First Years ever redesigns this stroller, they should include that option in their redesign.Even though I decided to return the stroller, there are still some qualities that I liked about this stroller. Here is what I liked:(1) BACK AND FORWARD FACING. I loved that I could face my son towards me when he was an infant and away from me when he gets old enough that he wanted to explore.(2) EASY TO COLLAPSE. Although the stroller was bulky, the stroller was still a breeze to collapse.(3) EUROPEAN STYLING. In addition the practicality, I was looking for a European styled stroller. This is the most affordable stroller that is also stylish.After I returned the First Years Indigo Stroller, I went ahead and purchased theBumbleride Flyer Reversible Handle Stroller with 7\" Wheels, Seagrass. I will update this review in the near future with a comparison of the two after I get more use of theBumbleride Flyer Reversible Handle Stroller with 7\" Wheels, Seagrass. If you can afford to splurge on the Bumbleride Flyer, I would highly recommend it.\n"
     ]
    }
   ],
   "source": [
    "print(baby_train[50000]['reviewText'])"
   ]
  },
  {
   "cell_type": "code",
   "execution_count": 36,
   "metadata": {
    "collapsed": false
   },
   "outputs": [
    {
     "name": "stdout",
     "output_type": "stream",
     "text": [
      "I did hours of research on strollers... contemplating between the First Years Indigo and theBumbleride Flyer Reversible Handle Stroller with 7\" Wheels, Seagrass.\n",
      "{'neg': 0.0, 'neu': 1.0, 'pos': 0.0, 'compound': 0.0}\n",
      "I finally settled on the Indigo stroller because the price was right and the features I wanted were all there.\n",
      "{'neg': 0.0, 'neu': 1.0, 'pos': 0.0, 'compound': 0.0}\n",
      "I purchased the stroller and matchingThe First Years Via Infant Car Seat, Abstract O'scar seat.\n",
      "{'neg': 0.0, 'neu': 1.0, 'pos': 0.0, 'compound': 0.0}\n",
      "My son was born in the winter and I didn't use the Indigo stroller regularly until about two months ago.\n",
      "{'neg': 0.0, 'neu': 1.0, 'pos': 0.0, 'compound': 0.0}\n",
      "For the first week, the stroller was wonderful.\n",
      "{'neg': 0.0, 'neu': 0.654, 'pos': 0.346, 'compound': 0.5719}\n",
      "What I had initially liked most about the stroller was that I could easily attach the matching First Years Via car seat.\n",
      "{'neg': 0.0, 'neu': 0.776, 'pos': 0.224, 'compound': 0.6369}\n",
      "In addition, the ride was smooth, quiet, and comfy.\n",
      "{'neg': 0.0, 'neu': 1.0, 'pos': 0.0, 'compound': 0.0}\n",
      "The stroller was a breeze to fold.\n",
      "{'neg': 0.0, 'neu': 1.0, 'pos': 0.0, 'compound': 0.0}\n",
      "Then, about two weeks into regular use, I started to notice the quality of the stroller diminish quickly.\n",
      "{'neg': 0.0, 'neu': 1.0, 'pos': 0.0, 'compound': 0.0}\n",
      "Here is what started to happen:(1) SQUEAKY WHEELS.\n",
      "{'neg': 0.0, 'neu': 1.0, 'pos': 0.0, 'compound': 0.0}\n",
      "The wheels started squeaking terribly.\n",
      "{'neg': 0.474, 'neu': 0.526, 'pos': 0.0, 'compound': -0.5574}\n",
      "I'd oil them and within a few days the stroller was squeaking again!\n",
      "{'neg': 0.0, 'neu': 1.0, 'pos': 0.0, 'compound': 0.0}\n",
      "I'd be in a store and people would turn there heads to see who had the annoyingly loud stroller.\n",
      "{'neg': 0.0, 'neu': 1.0, 'pos': 0.0, 'compound': 0.0}\n",
      "(2) VIA CAR SEAT WOULD GET CAUGHT.\n",
      "{'neg': 0.0, 'neu': 1.0, 'pos': 0.0, 'compound': 0.0}\n",
      "This is what really bothered me.\n",
      "{'neg': 0.341, 'neu': 0.659, 'pos': 0.0, 'compound': -0.3804}\n",
      "I could live with the squeaking, but this I could not.\n",
      "{'neg': 0.0, 'neu': 1.0, 'pos': 0.0, 'compound': 0.0}\n",
      "My son is 6 months old and we still use the infant car seat regularly.\n",
      "{'neg': 0.0, 'neu': 1.0, 'pos': 0.0, 'compound': 0.0}\n",
      "One day the car seat began to get stuck inside the left car seat stroller locking mechanism.\n",
      "{'neg': 0.111, 'neu': 0.889, 'pos': 0.0, 'compound': -0.25}\n",
      "We thought maybe it was our son's weight causing the problem, so we took him out of the car seat and tried again.\n",
      "{'neg': 0.109, 'neu': 0.891, 'pos': 0.0, 'compound': -0.4019}\n",
      "No luck!\n",
      "{'neg': 0.401, 'neu': 0.0, 'pos': 0.599, 'compound': 0.2714}\n",
      "We still couldn't get the car seat out.\n",
      "{'neg': 0.0, 'neu': 1.0, 'pos': 0.0, 'compound': 0.0}\n",
      "After fidgeting with the stroller and car seat for nearly 30minutes, we finally got the car seat unstuck!\n",
      "{'neg': 0.0, 'neu': 1.0, 'pos': 0.0, 'compound': 0.0}\n",
      "To test things out to see whether or not it was the stroller or car seat causing the problem, we decided to attached seat that came with the stroller.\n",
      "{'neg': 0.088, 'neu': 0.912, 'pos': 0.0, 'compound': -0.4019}\n",
      "That too would get stuck and we wrestled around with it until it miraculously came unstuck.Unfortunately, this stroller just had to be returned (thank goodness for Amazon's 365 day return policy on baby items).\n",
      "{'neg': 0.054, 'neu': 0.865, 'pos': 0.081, 'compound': 0.25}\n",
      "As much as I liked its other features, I couldn't put up with its defective qualities.\n",
      "{'neg': 0.164, 'neu': 0.678, 'pos': 0.158, 'compound': -0.0258}\n",
      "Perhaps I received a defective stroller AND car seat but I find that really hard to believe.In addition to it being defective, here is what else I didn't like about the stroller.\n",
      "{'neg': 0.304, 'neu': 0.696, 'pos': 0.0, 'compound': -0.8592}\n",
      "(1) BULKY.\n",
      "{'neg': 0.0, 'neu': 1.0, 'pos': 0.0, 'compound': 0.0}\n",
      "I knew when I purchased this stroller that it would be a standard size stroller but I still feel it was unnecessarily bulky.\n",
      "{'neg': 0.0, 'neu': 1.0, 'pos': 0.0, 'compound': 0.0}\n",
      "In order to fold it up, you have to remove the seat and then fold up the frame.\n",
      "{'neg': 0.0, 'neu': 1.0, 'pos': 0.0, 'compound': 0.0}\n",
      "Before I had my son I didn't think this was a big deal.\n",
      "{'neg': 0.0, 'neu': 1.0, 'pos': 0.0, 'compound': 0.0}\n",
      "Now I know better.\n",
      "{'neg': 0.0, 'neu': 0.408, 'pos': 0.592, 'compound': 0.4404}\n",
      "I'd recommend you find a one piece fold-up stroller like the Bumbleride Flyer.\n",
      "{'neg': 0.0, 'neu': 0.667, 'pos': 0.333, 'compound': 0.6124}\n",
      "(2) NO CUPHOLDERS.\n",
      "{'neg': 0.595, 'neu': 0.405, 'pos': 0.0, 'compound': -0.4466}\n",
      "There are no cup holders for the child or adult using the stroller.\n",
      "{'neg': 0.155, 'neu': 0.845, 'pos': 0.0, 'compound': -0.296}\n",
      "At the time I purchased the stroller, there were also no accessories available that could attach to the stroller.\n",
      "{'neg': 0.115, 'neu': 0.885, 'pos': 0.0, 'compound': -0.296}\n",
      "I think this is the huge oversight.\n",
      "{'neg': 0.0, 'neu': 0.685, 'pos': 0.315, 'compound': 0.3182}\n",
      "(3) SEAT HAD TO BE REMOVED.\n",
      "{'neg': 0.0, 'neu': 1.0, 'pos': 0.0, 'compound': 0.0}\n",
      "I really found it annoying that I had to remove the seat in order to collapse the stroller or switch the stroller from back to forward facing.\n",
      "{'neg': 0.211, 'neu': 0.789, 'pos': 0.0, 'compound': -0.7322}\n",
      "As I said earlier, I initially thought this was a frivolous disadvantage but I now think otherwise.\n",
      "{'neg': 0.137, 'neu': 0.863, 'pos': 0.0, 'compound': -0.2263}\n",
      "Other strollers that have the same back to forward facing option allow you to simply switch the direction of the handles without having to remove the seat.\n",
      "{'neg': 0.0, 'neu': 0.932, 'pos': 0.068, 'compound': 0.2263}\n",
      "If First Years ever redesigns this stroller, they should include that option in their redesign.Even though I decided to return the stroller, there are still some qualities that I liked about this stroller.\n",
      "{'neg': 0.0, 'neu': 0.915, 'pos': 0.085, 'compound': 0.4215}\n",
      "Here is what I liked:(1) BACK AND FORWARD FACING.\n",
      "{'neg': 0.0, 'neu': 1.0, 'pos': 0.0, 'compound': 0.0}\n",
      "I loved that I could face my son towards me when he was an infant and away from me when he gets old enough that he wanted to explore.\n",
      "{'neg': 0.0, 'neu': 0.87, 'pos': 0.13, 'compound': 0.5994}\n",
      "(2) EASY TO COLLAPSE.\n",
      "{'neg': 0.411, 'neu': 0.209, 'pos': 0.38, 'compound': -0.0772}\n",
      "Although the stroller was bulky, the stroller was still a breeze to collapse.\n",
      "{'neg': 0.225, 'neu': 0.775, 'pos': 0.0, 'compound': -0.4939}\n",
      "(3) EUROPEAN STYLING.\n",
      "{'neg': 0.0, 'neu': 1.0, 'pos': 0.0, 'compound': 0.0}\n",
      "In addition the practicality, I was looking for a European styled stroller.\n",
      "{'neg': 0.0, 'neu': 1.0, 'pos': 0.0, 'compound': 0.0}\n",
      "This is the most affordable stroller that is also stylish.After I returned the First Years Indigo Stroller, I went ahead and purchased theBumbleride Flyer Reversible Handle Stroller with 7\" Wheels, Seagrass.\n",
      "{'neg': 0.0, 'neu': 1.0, 'pos': 0.0, 'compound': 0.0}\n",
      "I will update this review in the near future with a comparison of the two after I get more use of theBumbleride Flyer Reversible Handle Stroller with 7\" Wheels, Seagrass.\n",
      "{'neg': 0.0, 'neu': 1.0, 'pos': 0.0, 'compound': 0.0}\n",
      "If you can afford to splurge on the Bumbleride Flyer, I would highly recommend it.\n",
      "{'neg': 0.0, 'neu': 0.823, 'pos': 0.177, 'compound': 0.4201}\n"
     ]
    }
   ],
   "source": [
    "from nltk.sentiment.vader import SentimentIntensityAnalyzer\n",
    "sia = SentimentIntensityAnalyzer()\n",
    "text = baby_train[50000]['reviewText']\n",
    "for s in sent_tokenize(text):\n",
    "    print(s)\n",
    "    print(sia.polarity_scores(s))"
   ]
  },
  {
   "cell_type": "code",
   "execution_count": 37,
   "metadata": {
    "collapsed": true
   },
   "outputs": [],
   "source": [
    "def sia_features(dataset):\n",
    "    \"\"\"For each review text in the dataset, extract:\n",
    "       (1) the mean positive sentiment over all sentences\n",
    "       (2) the mean neutral sentiment over all sentences\n",
    "       (3) the mean negative sentiment over all sentences\n",
    "       (4) the maximum positive sentiment over all sentences\n",
    "       (5) the maximum neutral sentiment over all sentences\n",
    "       (6) the maximum negative sentiment over all sentences\"\"\"\n",
    "    feat_matrix = numpy.empty((len(dataset), 6))\n",
    "    for i in range(len(dataset)):\n",
    "        sentences = sent_tokenize(dataset[i]['reviewText'])\n",
    "        nsent = len(sentences)\n",
    "        if nsent:\n",
    "            sentence_polarities = numpy.empty((nsent, 3))\n",
    "            for j in range(nsent):\n",
    "                polarity = sia.polarity_scores(sentences[j])\n",
    "                sentence_polarities[j, 0] = polarity['pos']\n",
    "                sentence_polarities[j, 1] = polarity['neu']\n",
    "                sentence_polarities[j, 2] = polarity['neg']\n",
    "            feat_matrix[i, 0:3] = numpy.mean(sentence_polarities, axis=0) # mean over the columns\n",
    "            feat_matrix[i, 3:6] = numpy.max(sentence_polarities, axis=0) # maximum over the columns\n",
    "        else:\n",
    "            feat_matrix[i, 0:6] = 0.0\n",
    "    return feat_matrix\n",
    "\n",
    "sia_tr = sia_features(baby_train)"
   ]
  },
  {
   "cell_type": "code",
   "execution_count": 38,
   "metadata": {
    "collapsed": false
   },
   "outputs": [
    {
     "name": "stdout",
     "output_type": "stream",
     "text": [
      "[[ 0.  1.  2.  3.]\n",
      " [ 4.  5.  6.  7.]\n",
      " [ 8.  9. 10. 11.]]\n",
      "[ 8.  9. 10. 11.]\n",
      "[1.5 5.5 9.5]\n"
     ]
    }
   ],
   "source": [
    "testmat = numpy.arange(12.).reshape((3, 4))\n",
    "print(testmat)\n",
    "print(numpy.max(testmat, axis=0))\n",
    "print(numpy.mean(testmat, axis=1))"
   ]
  },
  {
   "cell_type": "code",
   "execution_count": 39,
   "metadata": {
    "collapsed": true
   },
   "outputs": [],
   "source": [
    "def len_features(dataset):\n",
    "    \"\"\"Add two features:\n",
    "       (1) length of review (in thousands of characters) - truncate at 2,500\n",
    "       (2) percentage of exclamation marks (in %)\"\"\"\n",
    "    feat_matrix = numpy.empty((len(dataset), 2))\n",
    "    for i in range(len(dataset)):\n",
    "        text = dataset[i]['reviewText']\n",
    "        feat_matrix[i, 0] = len(text) / 1000.\n",
    "        if text:\n",
    "            feat_matrix[i, 1] = 100. * text.count('!') / len(text)\n",
    "        else:\n",
    "            feat_matrix[i, 1] = 0.0\n",
    "    feat_matrix[feat_matrix>2.5] = 2.5\n",
    "    return feat_matrix\n",
    "\n",
    "len_tr = len_features(baby_train)"
   ]
  },
  {
   "cell_type": "code",
   "execution_count": 40,
   "metadata": {
    "collapsed": false
   },
   "outputs": [
    {
     "name": "stdout",
     "output_type": "stream",
     "text": [
      "(96512, 2) (96512, 6) (96512, 2)\n"
     ]
    }
   ],
   "source": [
    "print(X_train_neg.shape, sia_tr.shape, len_tr.shape)"
   ]
  },
  {
   "cell_type": "code",
   "execution_count": 41,
   "metadata": {
    "collapsed": false
   },
   "outputs": [
    {
     "name": "stdout",
     "output_type": "stream",
     "text": [
      "Now the mean absolute error on the training data is 0.758256 stars\n"
     ]
    }
   ],
   "source": [
    "X_train_augmented = numpy.concatenate((X_train_neg, sia_tr, len_tr), axis=1) # stack horizontally\n",
    "lreg_augmented = LinearRegression().fit(X_train_augmented, Y_train)\n",
    "pred_train_augmented = lreg_augmented.predict(X_train_augmented)\n",
    "mae_train_augmented = mean_absolute_error(pred_train_augmented, Y_train)\n",
    "print(\"Now the mean absolute error on the training data is %f stars\" % mae_train_augmented)"
   ]
  },
  {
   "cell_type": "code",
   "execution_count": 42,
   "metadata": {
    "collapsed": false,
    "scrolled": true
   },
   "outputs": [
    {
     "name": "stdout",
     "output_type": "stream",
     "text": [
      "For the RF, it is 0.283528 stars\n"
     ]
    }
   ],
   "source": [
    "rf_augmented = RandomForestRegressor().fit(X_train_augmented, Y_train)\n",
    "rfpred_train_augmented = rf_augmented.predict(X_train_augmented)\n",
    "mae_train_rf_augmented = mean_absolute_error(rfpred_train_augmented, Y_train)\n",
    "print(\"For the RF, it is %f stars\" % mae_train_rf_augmented)"
   ]
  },
  {
   "cell_type": "code",
   "execution_count": 43,
   "metadata": {
    "collapsed": false
   },
   "outputs": [
    {
     "name": "stdout",
     "output_type": "stream",
     "text": [
      "On the validation set, we get 0.755795 error for the linear regression\n",
      "And 0.731631 for the random forest regression\n"
     ]
    }
   ],
   "source": [
    "X_valid_neg = dataset_to_matrix_with_neg(baby_valid)\n",
    "sia_valid = sia_features(baby_valid)\n",
    "len_valid = len_features(baby_valid)\n",
    "X_valid_augmented = numpy.concatenate((X_valid_neg, sia_valid, len_valid), axis=1)\n",
    "pred_valid_augmented = lreg_augmented.predict(X_valid_augmented)\n",
    "pred_valid_rf_augmented = rf_augmented.predict(X_valid_augmented)\n",
    "mae_valid_augmented = mean_absolute_error(pred_valid_augmented, Y_valid)\n",
    "print(\"On the validation set, we get %f error for the linear regression\" % mae_valid_augmented)\n",
    "mae_valid_rf_augmented = mean_absolute_error(pred_valid_rf_augmented, Y_valid)\n",
    "print(\"And %f for the random forest regression\" % mae_valid_rf_augmented)"
   ]
  },
  {
   "cell_type": "code",
   "execution_count": 44,
   "metadata": {
    "collapsed": false
   },
   "outputs": [
    {
     "name": "stdout",
     "output_type": "stream",
     "text": [
      "I did hours of research on strollers... contemplating between the First Years Indigo and theBumbleride Flyer Reversible Handle Stroller with 7\" Wheels, Seagrass. I finally settled on the Indigo stroller because the price was right and the features I wanted were all there. I purchased the stroller and matchingThe First Years Via Infant Car Seat, Abstract O'scar seat. My son was born in the winter and I didn't use the Indigo stroller regularly until about two months ago. For the first week, the stroller was wonderful. What I had initially liked most about the stroller was that I could easily attach the matching First Years Via car seat. In addition, the ride was smooth, quiet, and comfy. The stroller was a breeze to fold. Then, about two weeks into regular use, I started to notice the quality of the stroller diminish quickly. Here is what started to happen:(1) SQUEAKY WHEELS. The wheels started squeaking terribly. I'd oil them and within a few days the stroller was squeaking again! I'd be in a store and people would turn there heads to see who had the annoyingly loud stroller.(2) VIA CAR SEAT WOULD GET CAUGHT. This is what really bothered me. I could live with the squeaking, but this I could not. My son is 6 months old and we still use the infant car seat regularly. One day the car seat began to get stuck inside the left car seat stroller locking mechanism. We thought maybe it was our son's weight causing the problem, so we took him out of the car seat and tried again. No luck! We still couldn't get the car seat out. After fidgeting with the stroller and car seat for nearly 30minutes, we finally got the car seat unstuck! To test things out to see whether or not it was the stroller or car seat causing the problem, we decided to attached seat that came with the stroller. That too would get stuck and we wrestled around with it until it miraculously came unstuck.Unfortunately, this stroller just had to be returned (thank goodness for Amazon's 365 day return policy on baby items). As much as I liked its other features, I couldn't put up with its defective qualities. Perhaps I received a defective stroller AND car seat but I find that really hard to believe.In addition to it being defective, here is what else I didn't like about the stroller.(1) BULKY. I knew when I purchased this stroller that it would be a standard size stroller but I still feel it was unnecessarily bulky. In order to fold it up, you have to remove the seat and then fold up the frame. Before I had my son I didn't think this was a big deal. Now I know better. I'd recommend you find a one piece fold-up stroller like the Bumbleride Flyer.(2) NO CUPHOLDERS. There are no cup holders for the child or adult using the stroller. At the time I purchased the stroller, there were also no accessories available that could attach to the stroller. I think this is the huge oversight.(3) SEAT HAD TO BE REMOVED. I really found it annoying that I had to remove the seat in order to collapse the stroller or switch the stroller from back to forward facing. As I said earlier, I initially thought this was a frivolous disadvantage but I now think otherwise. Other strollers that have the same back to forward facing option allow you to simply switch the direction of the handles without having to remove the seat. If First Years ever redesigns this stroller, they should include that option in their redesign.Even though I decided to return the stroller, there are still some qualities that I liked about this stroller. Here is what I liked:(1) BACK AND FORWARD FACING. I loved that I could face my son towards me when he was an infant and away from me when he gets old enough that he wanted to explore.(2) EASY TO COLLAPSE. Although the stroller was bulky, the stroller was still a breeze to collapse.(3) EUROPEAN STYLING. In addition the practicality, I was looking for a European styled stroller. This is the most affordable stroller that is also stylish.After I returned the First Years Indigo Stroller, I went ahead and purchased theBumbleride Flyer Reversible Handle Stroller with 7\" Wheels, Seagrass. I will update this review in the near future with a comparison of the two after I get more use of theBumbleride Flyer Reversible Handle Stroller with 7\" Wheels, Seagrass. If you can afford to splurge on the Bumbleride Flyer, I would highly recommend it.\n"
     ]
    }
   ],
   "source": [
    "print(baby_train[50000]['reviewText'])"
   ]
  },
  {
   "cell_type": "code",
   "execution_count": 45,
   "metadata": {
    "collapsed": false
   },
   "outputs": [
    {
     "name": "stdout",
     "output_type": "stream",
     "text": [
      "I did hours of research on strollers... contemplating between the First Years Indigo and theBumbleride Flyer Reversible Handle Stroller with 7\" Wheels, Seagrass.\n",
      "{'neg': 0.0, 'neu': 1.0, 'pos': 0.0, 'compound': 0.0}\n",
      "I finally settled on the Indigo stroller because the price was right and the features I wanted were all there.\n",
      "{'neg': 0.0, 'neu': 1.0, 'pos': 0.0, 'compound': 0.0}\n",
      "I purchased the stroller and matchingThe First Years Via Infant Car Seat, Abstract O'scar seat.\n",
      "{'neg': 0.0, 'neu': 1.0, 'pos': 0.0, 'compound': 0.0}\n",
      "My son was born in the winter and I didn't use the Indigo stroller regularly until about two months ago.\n",
      "{'neg': 0.0, 'neu': 1.0, 'pos': 0.0, 'compound': 0.0}\n",
      "For the first week, the stroller was wonderful.\n",
      "{'neg': 0.0, 'neu': 0.654, 'pos': 0.346, 'compound': 0.5719}\n",
      "What I had initially liked most about the stroller was that I could easily attach the matching First Years Via car seat.\n",
      "{'neg': 0.0, 'neu': 0.776, 'pos': 0.224, 'compound': 0.6369}\n",
      "In addition, the ride was smooth, quiet, and comfy.\n",
      "{'neg': 0.0, 'neu': 1.0, 'pos': 0.0, 'compound': 0.0}\n",
      "The stroller was a breeze to fold.\n",
      "{'neg': 0.0, 'neu': 1.0, 'pos': 0.0, 'compound': 0.0}\n",
      "Then, about two weeks into regular use, I started to notice the quality of the stroller diminish quickly.\n",
      "{'neg': 0.0, 'neu': 1.0, 'pos': 0.0, 'compound': 0.0}\n",
      "Here is what started to happen:(1) SQUEAKY WHEELS.\n",
      "{'neg': 0.0, 'neu': 1.0, 'pos': 0.0, 'compound': 0.0}\n",
      "The wheels started squeaking terribly.\n",
      "{'neg': 0.474, 'neu': 0.526, 'pos': 0.0, 'compound': -0.5574}\n",
      "I'd oil them and within a few days the stroller was squeaking again!\n",
      "{'neg': 0.0, 'neu': 1.0, 'pos': 0.0, 'compound': 0.0}\n",
      "I'd be in a store and people would turn there heads to see who had the annoyingly loud stroller.\n",
      "{'neg': 0.0, 'neu': 1.0, 'pos': 0.0, 'compound': 0.0}\n",
      "(2) VIA CAR SEAT WOULD GET CAUGHT.\n",
      "{'neg': 0.0, 'neu': 1.0, 'pos': 0.0, 'compound': 0.0}\n",
      "This is what really bothered me.\n",
      "{'neg': 0.341, 'neu': 0.659, 'pos': 0.0, 'compound': -0.3804}\n",
      "I could live with the squeaking, but this I could not.\n",
      "{'neg': 0.0, 'neu': 1.0, 'pos': 0.0, 'compound': 0.0}\n",
      "My son is 6 months old and we still use the infant car seat regularly.\n",
      "{'neg': 0.0, 'neu': 1.0, 'pos': 0.0, 'compound': 0.0}\n",
      "One day the car seat began to get stuck inside the left car seat stroller locking mechanism.\n",
      "{'neg': 0.111, 'neu': 0.889, 'pos': 0.0, 'compound': -0.25}\n",
      "We thought maybe it was our son's weight causing the problem, so we took him out of the car seat and tried again.\n",
      "{'neg': 0.109, 'neu': 0.891, 'pos': 0.0, 'compound': -0.4019}\n",
      "No luck!\n",
      "{'neg': 0.401, 'neu': 0.0, 'pos': 0.599, 'compound': 0.2714}\n",
      "We still couldn't get the car seat out.\n",
      "{'neg': 0.0, 'neu': 1.0, 'pos': 0.0, 'compound': 0.0}\n",
      "After fidgeting with the stroller and car seat for nearly 30minutes, we finally got the car seat unstuck!\n",
      "{'neg': 0.0, 'neu': 1.0, 'pos': 0.0, 'compound': 0.0}\n",
      "To test things out to see whether or not it was the stroller or car seat causing the problem, we decided to attached seat that came with the stroller.\n",
      "{'neg': 0.088, 'neu': 0.912, 'pos': 0.0, 'compound': -0.4019}\n",
      "That too would get stuck and we wrestled around with it until it miraculously came unstuck.Unfortunately, this stroller just had to be returned (thank goodness for Amazon's 365 day return policy on baby items).\n",
      "{'neg': 0.054, 'neu': 0.865, 'pos': 0.081, 'compound': 0.25}\n",
      "As much as I liked its other features, I couldn't put up with its defective qualities.\n",
      "{'neg': 0.164, 'neu': 0.678, 'pos': 0.158, 'compound': -0.0258}\n",
      "Perhaps I received a defective stroller AND car seat but I find that really hard to believe.In addition to it being defective, here is what else I didn't like about the stroller.\n",
      "{'neg': 0.304, 'neu': 0.696, 'pos': 0.0, 'compound': -0.8592}\n",
      "(1) BULKY.\n",
      "{'neg': 0.0, 'neu': 1.0, 'pos': 0.0, 'compound': 0.0}\n",
      "I knew when I purchased this stroller that it would be a standard size stroller but I still feel it was unnecessarily bulky.\n",
      "{'neg': 0.0, 'neu': 1.0, 'pos': 0.0, 'compound': 0.0}\n",
      "In order to fold it up, you have to remove the seat and then fold up the frame.\n",
      "{'neg': 0.0, 'neu': 1.0, 'pos': 0.0, 'compound': 0.0}\n",
      "Before I had my son I didn't think this was a big deal.\n",
      "{'neg': 0.0, 'neu': 1.0, 'pos': 0.0, 'compound': 0.0}\n",
      "Now I know better.\n",
      "{'neg': 0.0, 'neu': 0.408, 'pos': 0.592, 'compound': 0.4404}\n",
      "I'd recommend you find a one piece fold-up stroller like the Bumbleride Flyer.\n",
      "{'neg': 0.0, 'neu': 0.667, 'pos': 0.333, 'compound': 0.6124}\n",
      "(2) NO CUPHOLDERS.\n",
      "{'neg': 0.595, 'neu': 0.405, 'pos': 0.0, 'compound': -0.4466}\n",
      "There are no cup holders for the child or adult using the stroller.\n",
      "{'neg': 0.155, 'neu': 0.845, 'pos': 0.0, 'compound': -0.296}\n",
      "At the time I purchased the stroller, there were also no accessories available that could attach to the stroller.\n",
      "{'neg': 0.115, 'neu': 0.885, 'pos': 0.0, 'compound': -0.296}\n",
      "I think this is the huge oversight.\n",
      "{'neg': 0.0, 'neu': 0.685, 'pos': 0.315, 'compound': 0.3182}\n",
      "(3) SEAT HAD TO BE REMOVED.\n",
      "{'neg': 0.0, 'neu': 1.0, 'pos': 0.0, 'compound': 0.0}\n",
      "I really found it annoying that I had to remove the seat in order to collapse the stroller or switch the stroller from back to forward facing.\n",
      "{'neg': 0.211, 'neu': 0.789, 'pos': 0.0, 'compound': -0.7322}\n",
      "As I said earlier, I initially thought this was a frivolous disadvantage but I now think otherwise.\n",
      "{'neg': 0.137, 'neu': 0.863, 'pos': 0.0, 'compound': -0.2263}\n",
      "Other strollers that have the same back to forward facing option allow you to simply switch the direction of the handles without having to remove the seat.\n",
      "{'neg': 0.0, 'neu': 0.932, 'pos': 0.068, 'compound': 0.2263}\n",
      "If First Years ever redesigns this stroller, they should include that option in their redesign.Even though I decided to return the stroller, there are still some qualities that I liked about this stroller.\n",
      "{'neg': 0.0, 'neu': 0.915, 'pos': 0.085, 'compound': 0.4215}\n",
      "Here is what I liked:(1) BACK AND FORWARD FACING.\n",
      "{'neg': 0.0, 'neu': 1.0, 'pos': 0.0, 'compound': 0.0}\n",
      "I loved that I could face my son towards me when he was an infant and away from me when he gets old enough that he wanted to explore.\n",
      "{'neg': 0.0, 'neu': 0.87, 'pos': 0.13, 'compound': 0.5994}\n",
      "(2) EASY TO COLLAPSE.\n",
      "{'neg': 0.411, 'neu': 0.209, 'pos': 0.38, 'compound': -0.0772}\n",
      "Although the stroller was bulky, the stroller was still a breeze to collapse.\n",
      "{'neg': 0.225, 'neu': 0.775, 'pos': 0.0, 'compound': -0.4939}\n",
      "(3) EUROPEAN STYLING.\n",
      "{'neg': 0.0, 'neu': 1.0, 'pos': 0.0, 'compound': 0.0}\n",
      "In addition the practicality, I was looking for a European styled stroller.\n",
      "{'neg': 0.0, 'neu': 1.0, 'pos': 0.0, 'compound': 0.0}\n",
      "This is the most affordable stroller that is also stylish.After I returned the First Years Indigo Stroller, I went ahead and purchased theBumbleride Flyer Reversible Handle Stroller with 7\" Wheels, Seagrass.\n",
      "{'neg': 0.0, 'neu': 1.0, 'pos': 0.0, 'compound': 0.0}\n",
      "I will update this review in the near future with a comparison of the two after I get more use of theBumbleride Flyer Reversible Handle Stroller with 7\" Wheels, Seagrass.\n",
      "{'neg': 0.0, 'neu': 1.0, 'pos': 0.0, 'compound': 0.0}\n",
      "If you can afford to splurge on the Bumbleride Flyer, I would highly recommend it.\n",
      "{'neg': 0.0, 'neu': 0.823, 'pos': 0.177, 'compound': 0.4201}\n"
     ]
    }
   ],
   "source": [
    "from nltk.sentiment.vader import SentimentIntensityAnalyzer\n",
    "sia = SentimentIntensityAnalyzer()\n",
    "text = baby_train[50000]['reviewText']\n",
    "for s in sent_tokenize(text):\n",
    "    print(s)\n",
    "    print(sia.polarity_scores(s))"
   ]
  },
  {
   "cell_type": "code",
   "execution_count": 53,
   "metadata": {
    "collapsed": false
   },
   "outputs": [
    {
     "name": "stdout",
     "output_type": "stream",
     "text": [
      "[[0.23533333 0.76466667 0.         0.552      1.         0.        ]\n",
      " [0.0198     0.9678     0.0124     0.099      1.         0.062     ]\n",
      " [0.12725    0.8365     0.03625    0.194      0.865      0.145     ]\n",
      " [0.1595     0.7775     0.063      0.319      0.874      0.126     ]\n",
      " [0.073      0.927      0.         0.219      1.         0.        ]\n",
      " [0.3115     0.6885     0.         0.571      1.         0.        ]\n",
      " [0.172      0.8174     0.0106     0.398      1.         0.053     ]\n",
      " [0.1035     0.87575    0.02075    0.279      1.         0.096     ]\n",
      " [0.29133333 0.70866667 0.         0.406      0.787      0.        ]\n",
      " [0.106      0.894      0.         0.318      1.         0.        ]]\n"
     ]
    }
   ],
   "source": [
    "def sia_features(dataset):\n",
    "    \"\"\"For each review text in the dataset, extract:\n",
    "    (1) mean positive sentiment over all sentences\n",
    "    (2) mean neutral sentiment over all sentences\n",
    "    (3) mean negative sentiment over all sentences\n",
    "    (4) maximum positive sentiment over all sentences\n",
    "    (5) maximum neutral sentiment over all sentences\n",
    "    (6) maximum negative sentiment over all sentences\n",
    "    \"\"\"\n",
    "    feat_matrix = numpy.empty((len(dataset), 6))\n",
    "    for i in range(len(dataset)):\n",
    "        sentences = sent_tokenize(dataset[i]['reviewText'])\n",
    "        nsent = len(sentences)\n",
    "        if nsent:\n",
    "            sentence_polarities = numpy.empty((nsent, 3))\n",
    "            for j in range(nsent):\n",
    "                polarity = sia.polarity_scores(sentences[j])\n",
    "                sentence_polarities[j, 0] = polarity['pos']\n",
    "                sentence_polarities[j, 1] = polarity['neu']\n",
    "                sentence_polarities[j, 2] = polarity['neg']\n",
    "            feat_matrix[i, 0:3] = numpy.mean(sentence_polarities, axis = 0) # mean over the columns\n",
    "            feat_matrix[i, 3:6] = numpy.max(sentence_polarities, axis = 0) # maximum over the columns\n",
    "        else:\n",
    "            feat_matrix[i, 0:6] = 0.0\n",
    "    return feat_matrix    \n",
    "            \n",
    "sia_tr = sia_features(baby_train)\n",
    "print(sia_tr[:10])"
   ]
  },
  {
   "cell_type": "code",
   "execution_count": 49,
   "metadata": {
    "collapsed": false
   },
   "outputs": [
    {
     "name": "stdout",
     "output_type": "stream",
     "text": [
      "[[ 0.  1.  2.  3.]\n",
      " [ 4.  5.  6.  7.]\n",
      " [ 8.  9. 10. 11.]]\n",
      "[ 8.  9. 10. 11.]\n",
      "[1.5 5.5 9.5]\n"
     ]
    }
   ],
   "source": [
    "testmat = numpy.arange(12.).reshape((3,4))\n",
    "print(testmat)\n",
    "print(numpy.max(testmat, axis = 0))\n",
    "print(numpy.mean(testmat, axis = 1))"
   ]
  },
  {
   "cell_type": "code",
   "execution_count": null,
   "metadata": {
    "collapsed": true
   },
   "outputs": [],
   "source": [
    "# Homework - required for Certification\n",
    "\n",
    "def len_features(dataset):\n",
    "    \"\"\"Add two features:\n",
    "    (1) length of review (in thousands of character) - truncate at 2,500\n",
    "    (2) percentage of exclamation marks (in %)\n",
    "    \"\"\"\n",
    "\n",
    "len_tr = len_features(baby_train)    \n",
    " "
   ]
  },
  {
   "cell_type": "code",
   "execution_count": 50,
   "metadata": {
    "collapsed": false
   },
   "outputs": [
    {
     "name": "stdout",
     "output_type": "stream",
     "text": [
      "(96512, 2) (96512, 6)\n"
     ]
    }
   ],
   "source": [
    "print(X_train_neg.shape, sia_tr.shape)"
   ]
  },
  {
   "cell_type": "code",
   "execution_count": 55,
   "metadata": {
    "collapsed": false
   },
   "outputs": [
    {
     "name": "stdout",
     "output_type": "stream",
     "text": [
      "Now the mean absolute error on the training data is 0.759126 starts\n"
     ]
    }
   ],
   "source": [
    "# stack horizontally\n",
    "X_train_augmented = numpy.concatenate( (X_train_neg, sia_tr), axis = 1)\n",
    "lreg_augmented = LinearRegression().fit(X_train_augmented, Y_train)\n",
    "pred_train_augmented = lreg_augmented.predict(X_train_augmented)\n",
    "mae_train_augmented = mean_absolute_error(pred_train_augmented, Y_train)\n",
    "print(\"Now the mean absolute error on the training data is %f starts\" % mae_train_augmented)"
   ]
  },
  {
   "cell_type": "code",
   "execution_count": 56,
   "metadata": {
    "collapsed": false
   },
   "outputs": [
    {
     "name": "stdout",
     "output_type": "stream",
     "text": [
      "For the RF, MAE is 0.292433 stars\n"
     ]
    }
   ],
   "source": [
    "# random forest\n",
    "rf_augmented = RandomForestRegressor().fit(X_train_augmented, Y_train)\n",
    "rfpred_train_augmented = rf_augmented.predict(X_train_augmented)\n",
    "mae_train_rf_augmented = mean_absolute_error(rfpred_train_augmented, Y_train)\n",
    "print(\"For the RF, MAE is %f stars\" % mae_train_rf_augmented)"
   ]
  },
  {
   "cell_type": "code",
   "execution_count": null,
   "metadata": {
    "collapsed": true
   },
   "outputs": [],
   "source": [
    "X_valid_neg = dataset_to_matrix_with_neg(baby_valid)\n",
    "sia_valid = sia_features(baby_valid)\n",
    "# len_valid = \n",
    "X_valid_augmented = numpy.concatenate((X_valid_neg, sia_valid), axis = 1)\n",
    "pred_valid_augmented =\n",
    "pred_valid_rfaugmented =\n",
    "\n",
    "mae_valid_augmented = \n",
    "mae_valid_rfaugmented ="
   ]
  },
  {
   "cell_type": "markdown",
   "metadata": {},
   "source": [
    "# Homework for certification\n",
    "\n",
    "Refactor the code above:\n",
    "- \"Be lazy. Not just lazy but proactively, agressively lazy.\" Remove duplication.\n",
    "- create a single function that takes in data and spits out all success metrics across all of your algos.\n"
   ]
  },
  {
   "cell_type": "markdown",
   "metadata": {},
   "source": [
    "# Where to go from here?\n",
    "\n",
    "\n",
    "- unigrams (NLTK)\n",
    "- word vector (gensim, [glove](https://nlp.stanford.edu/projects/glove/), word2vec)\n",
    "- recurrent neural net\n",
    "- convolutional neural net\n",
    "\n",
    "https://www.oreilly.com/learning/perform-sentiment-analysis-with-lstms-using-tensorflow\n",
    "\n",
    "http://www.wildml.com/2015/11/understanding-convolutional-neural-networks-for-nlp/\n",
    "\n",
    "https://machinelearningmastery.com/develop-n-gram-multichannel-convolutional-neural-network-sentiment-analysis/"
   ]
  }
 ],
 "metadata": {
  "kernelspec": {
   "display_name": "Python 3",
   "language": "python",
   "name": "python3"
  },
  "language_info": {
   "codemirror_mode": {
    "name": "ipython",
    "version": 3
   },
   "file_extension": ".py",
   "mimetype": "text/x-python",
   "name": "python",
   "nbconvert_exporter": "python",
   "pygments_lexer": "ipython3",
   "version": "3.5.1"
  }
 },
 "nbformat": 4,
 "nbformat_minor": 2
}
