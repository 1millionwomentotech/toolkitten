{
 "cells": [
  {
   "cell_type": "markdown",
   "metadata": {},
   "source": [
    "# 1millionwomentotech SummerOfCode\n",
    "\n",
    "## Intro to AI - Week 4 Day 4"
   ]
  },
  {
   "cell_type": "markdown",
   "metadata": {},
   "source": [
    "# Machine Learning Checklist\n",
    "\n",
    "Machine Learning Project\n",
    "Checklist\n",
    "This checklist can guide you through your Machine Learning projects. There are eight main steps:\n",
    "1. Frame the problem and look at the big picture.\n",
    "2. Get the data.\n",
    "3. Explore the data to gain insights.\n",
    "4. Prepare the data to better expose the underlying data patterns to Machine Learning algorithms.\n",
    "5. Explore many different models and short-list the best ones.\n",
    "6. Fine-tune your models and combine them into a great solution.\n",
    "7. Present your solution.\n",
    "8. Launch, monitor, and maintain your system.\n",
    "Obviously, you should feel free to adapt this checklist to your needs."
   ]
  },
  {
   "cell_type": "markdown",
   "metadata": {},
   "source": [
    "##  #1 Frame the Problem and Look at the Big Picture\n",
    "\n",
    "1. Define the objective in business terms.\n",
    "2. How will your solution be used?\n",
    "3. What are the current solutions/workarounds (if any)?\n",
    "4. How should you frame this problem (supervised/unsupervised, online/offline, etc.)?\n",
    "5. How should performance be measured?\n",
    "6. Is the performance measure aligned with the business objective?\n",
    "7. What would be the minimum performance needed to reach the business objective?\n",
    "8. What are comparable problems? Can you reuse experience or tools?\n",
    "9. Is human expertise available?\n",
    "10. How would you solve the problem manually?\n",
    "11. List the assumptions you (or others) have made so far.\n",
    "12. Verify assumptions if possible."
   ]
  },
  {
   "cell_type": "markdown",
   "metadata": {},
   "source": [
    "## #2 Get the Data\n",
    "Note: automate as much as possible so you can easily get fresh data.\n",
    "1. List the data you need and how much you need.\n",
    "2. Find and document where you can get that data.\n",
    "3. Check how much space it will take.\n",
    "4. Check legal obligations, and get authorization if necessary.\n",
    "5. Get access authorizations.\n",
    "6. Create a workspace (with enough storage space).\n",
    "7. Get the data.\n",
    "8. Convert the data to a format you can easily manipulate (without changing the data itself).\n",
    "9. Ensure sensitive information is deleted or protected (e.g., anonymized). -> **pseudonymized e.g. Blockchain**\n",
    "10. Check the size and type of data (time series, sample, geographical, etc.).\n",
    "11. Sample a test set, put it aside, and never look at it (no data snooping!)."
   ]
  },
  {
   "cell_type": "markdown",
   "metadata": {},
   "source": [
    "## #3 Explore the Data\n",
    "Note: try to get insights from a field expert for these steps.\n",
    "1. Create a copy of the data for exploration (sampling it down to a manageable size if necessary).\n",
    "2. Create a Jupyter notebook to keep a record of your data exploration.\n",
    "3. Study each attribute and its characteristics:`Name\n",
    "Type (categorical, int/float, bounded/unbounded, text, structured, etc.)\n",
    "% of missing values\n",
    "Noisiness and type of noise (stochastic, outliers, rounding errors, etc.)\n",
    "Possibly useful for the task?\n",
    "Type of distribution (Gaussian, uniform, logarithmic, etc.)\n",
    "`\n",
    "4. For supervised learning tasks, identify the target attribute(s).\n",
    "5. Visualize the data.\n",
    "6. Study the correlations between attributes.\n",
    "7. Study how you would solve the problem manually.\n",
    "8. Identify the promising transformations you may want to apply. -> **e.g. for income log**\n",
    "9. Identify extra data that would be useful (go back to “Get the Data”).\n",
    "10. Document what you have learned."
   ]
  },
  {
   "cell_type": "markdown",
   "metadata": {},
   "source": [
    "## #4 Prepare the Data\n",
    "\n",
    "Notes:\n",
    "Work on copies of the data (keep the original dataset intact).\n",
    "Write functions for all data transformations you apply, for five reasons:\n",
    "\n",
    "- So you can easily prepare the data the next time you get a fresh dataset\n",
    "- So you can apply these transformations in future projects\n",
    "- To clean and prepare the test set\n",
    "- To clean and prepare new data instances once your solution is live\n",
    "- To make it easy to treat your preparation choices as hyperparameters -> **magic numbers**, e.g. maximum depth/height in RF, cutting off text at 100words, 200words, 2.5k, choices you make on a discretionary choices at the beginning, where you might want to conduct a systematic study to how sensitive your results are to these, and which parameters lead to the best results\n",
    "\n",
    "Steps:\n",
    "1. Data cleaning:\n",
    "Fix or remove outliers (optional).\n",
    "Fill in missing values (e.g., with zero, mean, median…)-> if age is missing, do you use mean? or drop their rows (or columns). -> drop the age\n",
    "rows are the examples\n",
    "columns are the features\n",
    "2. Feature selection (optional):\n",
    "Drop the attributes that provide no useful information for the task.\n",
    "3. Feature engineering, where appropriate:\n",
    "Discretize continuous features.\n",
    "Decompose features (e.g., categorical, date/time, etc.). -> e.g. somebody's continent, 1 column from NA, 1 for EU\n",
    "Add promising transformations of features (e.g., `log(x), sqrt(x), x^2`, etc.).\n",
    "Aggregate features into promising new features.\n",
    "4. Feature scaling: standardize or normalize features. standardization -> mean, stdev across features are similar. Therefore often we will deduct the mean and divide by stdev so all features have a mean of 0 and stdev 1.\n",
    "normalization -> transform to a normal distribution, so that ordering is preserved"
   ]
  },
  {
   "cell_type": "markdown",
   "metadata": {},
   "source": [
    "## #5 Short-List Promising Models\n",
    "\n",
    "Notes:\n",
    "If the data is huge, you may want to sample smaller training sets **downsampling** so you can train many different\n",
    "models in a reasonable time (be aware that this penalizes complex models such as large neural nets\n",
    "or Random Forests).\n",
    "Once again, try to automate these steps as much as possible.\n",
    "1. Train many quick and dirty models from different categories (e.g., linear, naive Bayes, SVM,\n",
    "Random Forests, neural net, etc.) using standard parameters.\n",
    "2. Measure and compare their performance.\n",
    "For each model, use N-fold cross-validation and compute the mean and standard deviation\n",
    "of the performance measure on the N folds.\n",
    "3. Analyze the most significant variables for each algorithm.\n",
    "4. Analyze the types of errors the models make.\n",
    "What data would a human have used to avoid these errors?\n",
    "5. Have a quick round of feature selection and engineering.\n",
    "6. Have one or two more quick iterations of the five previous steps.\n",
    "7. Short-list the top three to five most promising models, preferring models that make different\n",
    "types of errors."
   ]
  },
  {
   "cell_type": "markdown",
   "metadata": {},
   "source": [
    "## #6 Fine-Tune the System\n",
    "Notes:\n",
    "You will want to use as much data as possible for this step, especially as you move toward the end\n",
    "of fine-tuning.\n",
    "As always automate what you can.\n",
    "1. Fine-tune the hyperparameters using cross-validation. Treat your data transformation choices as hyperparameters, especially when you are not sure about them (e.g., should I replace missing values with zero or with the median value? Or just drop the rows?). Unless there are very few hyperparameter values to explore, prefer random search over grid search. If training is very long, you may prefer a Bayesian optimization approach (e.g., using Gaussian process priors, as described by *Practical Bayesian Optimization of Machine Learning Algorithms,” J. Snoek, H. Larochelle, 1 R. Adams (2012).*\n",
    "2. Try Ensemble methods. Combining your best models will often perform better than running them individually.\n",
    "3. Once you are confident about your final model, measure its performance on the test set to estimate the generalization error.\n",
    "\n",
    "### WARNING\n",
    "Don’t tweak your model after measuring the generalization error: you would just start overfitting the test set."
   ]
  },
  {
   "cell_type": "markdown",
   "metadata": {},
   "source": [
    "## #7 Present Your Solution\n",
    "1. Document what you have done.\n",
    "2. Create a nice presentation.\n",
    "Make sure you highlight the big picture first.\n",
    "3. Explain why your solution achieves the business objective.\n",
    "4. Don’t forget to present interesting points you noticed along the way.\n",
    "Describe what worked and what did not.\n",
    "List your assumptions and your system’s limitations.\n",
    "5. Ensure your key findings are communicated through beautiful visualizations or easy-to-remember\n",
    "statements (e.g., “the median income is the number-one predictor of housing prices”)."
   ]
  },
  {
   "cell_type": "markdown",
   "metadata": {},
   "source": [
    "Life success predictors:\n",
    "\n",
    "- Vivienne Ming\n",
    "[The Paradox of Incentive Insensitivity](https://www.tedmed.com/talks/show?id=528930)\n",
    "\n",
    "- Vivienne Ming [Published Works](https://www.socos.me/vivienne)\n",
    "Modeling student conceptual knowledge from unstructured data using a hierarchical generative model Ming & Ming (2012) NIPS2012 Workshop: Personalizing Education With Machine Learning. South Lake Tahoe, CA.\n",
    "Sparse codes for speech predict spectrotemporal receptive fields in the inferior colliculus Carlson, Ming & DeWeese (2012). PLoS CompBio.\n",
    "Efficient auditory coding Smith & Lewicki (2006). Nature 439, Num. 7079.\n",
    "Heirarchical coding of natural signals in a dynamical system model Bumbacher & Ming (2012) Cosyne 2012.\n",
    "An approach to automatic recognition of spontaneous facial actions Bartlet, Braathen, Littlewort, Smith & Movellan (2003) Advances in Neural Information Processing Systems 15. MIT Press, Cambridge, Massachusetts.\n",
    "\n",
    "Credit for suggestion: Bituin Callanta ​It's built by Carnegie-Mellon Learning Environment Labs - they are working on learning analytics and educational data mining\n",
    "https://www.learningenvironmentslab.org/openpatternrepository/Main_Page"
   ]
  },
  {
   "cell_type": "markdown",
   "metadata": {},
   "source": [
    "## #8 Launch!\n",
    "1. Get your solution ready for production (plug into production data inputs, write unit tests, etc.).\n",
    "2. Write monitoring code to check your system’s live performance at regular intervals and trigger\n",
    "alerts when it drops.\n",
    "Beware of slow degradation too: models tend to “rot” as data evolves.\n",
    "Measuring performance may require a human pipeline (e.g., via a crowdsourcing service).\n",
    "Also monitor your inputs’ quality (e.g., a malfunctioning sensor sending random values, or\n",
    "another team’s output becoming stale). This is particularly important for online learning\n",
    "systems.\n",
    "3. Retrain your models on a regular basis on fresh data (automate as much as possible)."
   ]
  },
  {
   "cell_type": "markdown",
   "metadata": {},
   "source": [
    "Source: Hands-on Machine Learning with Scikit-Learn and TensorFlow by Aurelien Geron. O'Reilly'\n",
    "\n",
    "Jupyter notebooks to go with it: https://github.com/ageron/handson-ml"
   ]
  }
 ],
 "metadata": {
  "kernelspec": {
   "display_name": "Python 3",
   "language": "python",
   "name": "python3"
  },
  "language_info": {
   "codemirror_mode": {
    "name": "ipython",
    "version": 3
   },
   "file_extension": ".py",
   "mimetype": "text/x-python",
   "name": "python",
   "nbconvert_exporter": "python",
   "pygments_lexer": "ipython3",
   "version": "3.5.1"
  }
 },
 "nbformat": 4,
 "nbformat_minor": 0
}
