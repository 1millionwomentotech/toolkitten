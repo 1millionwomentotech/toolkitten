{
 "cells": [
  {
   "cell_type": "code",
   "execution_count": 1,
   "metadata": {
    "collapsed": false
   },
   "outputs": [
    {
     "name": "stdout",
     "output_type": "stream",
     "text": [
      "Dataset Apps_for_Android has already been downloaded to ./data/\n"
     ]
    }
   ],
   "source": [
    "%matplotlib inline\n",
    "datadir = './data/'\n",
    "\n",
    "import urllib.request, os, gzip\n",
    "\n",
    "def download_data(dataset_name, datadir):\n",
    "    filename = 'reviews_%s_5.json' % dataset_name\n",
    "    filepath = os.path.join(datadir, filename)\n",
    "    if os.path.exists(filepath):\n",
    "        print(\"Dataset %s has already been downloaded to %s\" % (dataset_name, datadir))\n",
    "    else:\n",
    "        url = 'http://snap.stanford.edu/data/amazon/productGraph/categoryFiles/%s.gz' % filename\n",
    "        urllib.request.urlretrieve(url, filepath + \".gz\")\n",
    "        with gzip.open(filepath + \".gz\", 'rb') as fin:\n",
    "            with open(filepath, 'wb') as fout:\n",
    "                fout.write(fin.read())\n",
    "        print(\"Downloaded dataset %s and saved it to %s\" % (dataset_name, datadir))\n",
    "\n",
    "#dataset = \"Beauty\"\n",
    "#download_data(dataset, datadir)\n",
    "dataset = \"Apps_for_Android\"\n",
    "download_data(dataset, datadir)"
   ]
  },
  {
   "cell_type": "code",
   "execution_count": 2,
   "metadata": {
    "collapsed": true
   },
   "outputs": [],
   "source": [
    "##reading the data to a variable called data[]\n",
    "import json\n",
    "\n",
    "def load_data(dataset_name,datadir):\n",
    "    filepath = os.path.join(datadir, 'reviews_%s_5.json' % dataset_name)\n",
    "    if not os.path.exists(filepath):\n",
    "        download_data(dataset_name,datadir)\n",
    "    data=[]\n",
    "    with open(filepath, 'r') as f:\n",
    "        for line in f:                   # read file line by line\n",
    "            item_hash = hash(line)       # we will use this later for partitioning our data \n",
    "            item = json.loads(line)      # convert JSON string to Python dict\n",
    "            item['hash'] = item_hash     # add hash for identification purpose\n",
    "            data.append(item)\n",
    "    print(\"Loaded %d data for datasets %s\" % (len(data), dataset_name))\n",
    "    return data"
   ]
  },
  {
   "cell_type": "code",
   "execution_count": 3,
   "metadata": {
    "collapsed": false,
    "scrolled": true
   },
   "outputs": [
    {
     "name": "stdout",
     "output_type": "stream",
     "text": [
      "Loaded 752937 data for datasets Apps_for_Android\n",
      "{'reviewerID': 'A2RK3QEUEFRNAN', 'asin': 'B008S3EJSU', 'reviewerName': 'Daddy Shawn \"Writer & daddy.\"', 'helpful': [3, 3], 'reviewText': \"Totally worth the $2.99 I paid.  Lots of fun if you're a fan of fantasy RPGs.  And it's a full game, you don't have to keep buying items with real money to continue.  That's refreshing in this horrible age of micro-transactions.  Pick it up.  You do need a good amount of space available on your device, but it's not as bad as the Final Fantasy games.  For those with new Kindles you won't have any problem.  If you've got an older model you may need to clear out some old games that you don't play.\", 'overall': 5.0, 'summary': 'Awesome game & a blast from the past.', 'unixReviewTime': 1395187200, 'reviewTime': '03 19, 2014', 'hash': -792307445}\n"
     ]
    }
   ],
   "source": [
    "# load the data...\n",
    "apps = load_data(dataset, datadir)\n",
    "# ... and have a look at an example item (item number 9426):\n",
    "print(apps[367668])"
   ]
  },
  {
   "cell_type": "code",
   "execution_count": 5,
   "metadata": {
    "collapsed": false
   },
   "outputs": [
    {
     "name": "stdout",
     "output_type": "stream",
     "text": [
      "Now we have 452300 training examples, 150146 validation examples, and 150491 test examples\n"
     ]
    }
   ],
   "source": [
    "def partition_train_validation_test(data):\n",
    "    # 60% : modulus is 0, 1, 2, 3, 4, or 5\n",
    "    data_train = [item for item in data if item['hash']%10<=5]  \n",
    "    # 20% : modulus is 6 or 7\n",
    "    data_valid = [item for item in data if item['hash']%10 in [6,7]] \n",
    "    # 20% : modulus is 8 or 9\n",
    "    data_test  = [item for item in data if item['hash']%10 in [8,9]] \n",
    "    return data_train, data_valid, data_test\n",
    "    \n",
    "apps_train, apps_valid, apps_test = partition_train_validation_test(apps)\n",
    "\n",
    "print(\"Now we have\", len(apps_train), \"training examples,\", len(apps_valid),\n",
    "      \"validation examples, and\", len(apps_test), \"test examples\")"
   ]
  },
  {
   "cell_type": "code",
   "execution_count": 2,
   "metadata": {
    "collapsed": false
   },
   "outputs": [],
   "source": [
    "from nltk.corpus import opinion_lexicon\n",
    "positive_words = set(opinion_lexicon.positive())\n",
    "negative_words = set(opinion_lexicon.negative())"
   ]
  },
  {
   "cell_type": "code",
   "execution_count": 7,
   "metadata": {
    "collapsed": false
   },
   "outputs": [
    {
     "name": "stdout",
     "output_type": "stream",
     "text": [
      "(0.8571428571428571, 0.0)\n",
      "(0.0, 0.8571428571428571)\n"
     ]
    }
   ],
   "source": [
    "from nltk.corpus import stopwords\n",
    "from nltk.tokenize import sent_tokenize, word_tokenize\n",
    "\n",
    "eng_stopwords = set(stopwords.words('english'))\n",
    "\n",
    "def my_tokenize(text):\n",
    "    # split text into lower-case tokens, removing all-punctuation tokens and stopwords\n",
    "    tokens = []\n",
    "    for sentence in sent_tokenize(text):\n",
    "        tokens.extend(x for x in word_tokenize(sentence.lower()) \n",
    "                      if x not in eng_stopwords and any(i.isalpha() for i in x)) #any means the word has atleast 1 alphabet\n",
    "    return tokens\n",
    "\n",
    "def pos_neg_fraction(text):\n",
    "    tokens = my_tokenize(text)\n",
    "    count_pos, count_neg = 0, 0\n",
    "    for t in tokens:\n",
    "        if t in positive_words:\n",
    "            count_pos += 1\n",
    "        if t in negative_words:\n",
    "            count_neg += 1\n",
    "    count_all = len(tokens)\n",
    "    if count_all != 0:\n",
    "        return count_pos/count_all, count_neg/count_all ## notice returning a pair\n",
    "    else:\n",
    "        return 0., 0.\n",
    "    \n",
    "pos_example = 'This is a good, great, fantastic, amazing, wonderful, super product!!!'\n",
    "neg_example = 'This is a bad, atrocious, terrible, dreadful, awful, abysmal product!!!'\n",
    "print(pos_neg_fraction(pos_example))\n",
    "print(pos_neg_fraction(neg_example))"
   ]
  },
  {
   "cell_type": "markdown",
   "metadata": {},
   "source": [
    "## X_train"
   ]
  },
  {
   "cell_type": "code",
   "execution_count": 8,
   "metadata": {
    "collapsed": false
   },
   "outputs": [],
   "source": [
    "##THIS BLOCK TAKES YEARS TO EXECUTE\n",
    "import numpy\n",
    "\n",
    "def dataset_to_matrix(data):\n",
    "    return numpy.array([list(pos_neg_fraction(item['reviewText'])) for item in data])\n",
    "\n",
    "X_train = dataset_to_matrix(apps_train)"
   ]
  },
  {
   "cell_type": "markdown",
   "metadata": {},
   "source": [
    "##### loking at the most positive and most negative review"
   ]
  },
  {
   "cell_type": "code",
   "execution_count": 9,
   "metadata": {
    "collapsed": false
   },
   "outputs": [
    {
     "name": "stdout",
     "output_type": "stream",
     "text": [
      "We found a fraction of 100.000000 % positive words for example 853\n",
      "{'reviewerID': 'AWUDE6LOH5Y2Q', 'asin': 'B004DLPXAO', 'reviewerName': 'Amazon Customer', 'helpful': [0, 0], 'reviewText': 'Love it!', 'overall': 5.0, 'summary': 'Take you Kindle Library along whenever you have your phone!', 'unixReviewTime': 1404691200, 'reviewTime': '07 7, 2014', 'hash': 78475245}\n",
      "We found a fraction of 100.000000 % negative words for example 6520\n",
      "{'reviewerID': 'A1HZYCWWJ53TS5', 'asin': 'B004HE5TAG', 'helpful': [0, 0], 'reviewText': 'boring', 'overall': 2.0, 'summary': 'Two Stars', 'unixReviewTime': 1405382400, 'reviewTime': '07 15, 2014', 'hash': 2027779230}\n"
     ]
    }
   ],
   "source": [
    "most_pos, most_neg = numpy.argmax(X_train, axis=0) #axis=0 means along columns, axis=1 means along rows\n",
    "# print the example with the highest fraction of positive words:\n",
    "print(\"We found a fraction of %f %% positive words for example %d\" % \n",
    "      (100.*X_train[most_pos, 0], most_pos)) ## this means taking the value of id 'most_pos' from the 0th column\n",
    "print(apps_train[most_pos])\n",
    "print(\"We found a fraction of %f %% negative words for example %d\" %\n",
    "      (100.*X_train[most_neg, 1], most_neg)) ## this means taking the value of id 'most_neg' from the 1st column\n",
    "print(apps_train[most_neg])"
   ]
  },
  {
   "cell_type": "markdown",
   "metadata": {},
   "source": [
    "## Y_train"
   ]
  },
  {
   "cell_type": "code",
   "execution_count": 10,
   "metadata": {
    "collapsed": false
   },
   "outputs": [
    {
     "name": "stdout",
     "output_type": "stream",
     "text": [
      "Our feature matrix is two-dimensional and has shape (452300, 2)\n",
      "Our target vector is one-dimensional and has shape (452300,)\n"
     ]
    }
   ],
   "source": [
    "def dataset_to_targets(data):\n",
    "    return numpy.array([item['overall'] for item in data])\n",
    "\n",
    "Y_train = dataset_to_targets(apps_train)\n",
    "print(\"Our feature matrix is two-dimensional and has shape\", X_train.shape)\n",
    "print(\"Our target vector is one-dimensional and has shape\", Y_train.shape)"
   ]
  },
  {
   "cell_type": "code",
   "execution_count": 11,
   "metadata": {
    "collapsed": false
   },
   "outputs": [
    {
     "data": {
      "text/plain": [
       "<matplotlib.axes._subplots.AxesSubplot at 0x3e6e8930>"
      ]
     },
     "execution_count": 11,
     "metadata": {},
     "output_type": "execute_result"
    },
    {
     "data": {
      "image/png": "[encoded data removed]",
      "text/plain": [
       "<Figure size 432x288 with 1 Axes>"
      ]
     },
     "metadata": {},
     "output_type": "display_data"
    }
   ],
   "source": [
    "import pandas ## pip3 install pandas, this killed my day had to put the \"3\"\n",
    "pandas.Series((Y_train)).value_counts().plot.bar()"
   ]
  },
  {
   "cell_type": "code",
   "execution_count": 14,
   "metadata": {
    "collapsed": false
   },
   "outputs": [
    {
     "data": {
      "text/plain": [
       "<matplotlib.axes._subplots.AxesSubplot at 0x48f01f0>"
      ]
     },
     "execution_count": 14,
     "metadata": {},
     "output_type": "execute_result"
    },
    {
     "data": {
      "image/png": "[encoded data removed]",
      "text/plain": [
       "<Figure size 432x288 with 1 Axes>"
      ]
     },
     "metadata": {},
     "output_type": "display_data"
    }
   ],
   "source": [
    "df = pandas.DataFrame(data=X_train, columns = ['fpos', 'fneg'])\n",
    "df.plot.kde(xlim=(-0.05, 0.5))"
   ]
  },
  {
   "cell_type": "code",
   "execution_count": 16,
   "metadata": {
    "collapsed": false
   },
   "outputs": [
    {
     "name": "stdout",
     "output_type": "stream",
     "text": [
      "The coefficient for the fpos variable is 3.7752470940645044\n",
      "The coefficient for the fneg variable is -3.9353508131984425\n",
      "The intercept is 3.5444536500987454\n"
     ]
    }
   ],
   "source": [
    "from sklearn.linear_model import LinearRegression\n",
    "lreg = LinearRegression().fit(X_train, Y_train)\n",
    "\n",
    "print(\"The coefficient for the fpos variable is\", lreg.coef_[0])\n",
    "print(\"The coefficient for the fneg variable is\", lreg.coef_[1])\n",
    "print(\"The intercept is\", lreg.intercept_)"
   ]
  },
  {
   "cell_type": "code",
   "execution_count": 17,
   "metadata": {
    "collapsed": false
   },
   "outputs": [
    {
     "name": "stdout",
     "output_type": "stream",
     "text": [
      "The expected rating is 4.299503 stars\n",
      "This is the same as 4.299503 stars\n"
     ]
    }
   ],
   "source": [
    "features = [[0.2, 0]]\n",
    "expected_rating_A = lreg.predict(features)[0]\n",
    "print(\"The expected rating is %f stars\" % expected_rating_A)\n",
    "# we can also compute this explicitly:\n",
    "expected_rating_B = lreg.intercept_ + 0.2*lreg.coef_[0] + 0*lreg.coef_[1]\n",
    "print(\"This is the same as %f stars\" % expected_rating_B)"
   ]
  },
  {
   "cell_type": "code",
   "execution_count": 19,
   "metadata": {
    "collapsed": false
   },
   "outputs": [
    {
     "name": "stdout",
     "output_type": "stream",
     "text": [
      "The expected rating is 2.757383 stars\n",
      "This is the same as 2.757383 stars\n"
     ]
    }
   ],
   "source": [
    "features = [[0, 0.2]]\n",
    "expected_rating_A = lreg.predict(features)[0]\n",
    "print(\"The expected rating is %f stars\" % expected_rating_A)\n",
    "# we can also compute this explicitly:\n",
    "expected_rating_B = lreg.intercept_ + 0 * lreg.coef_[0] + 0.2 * lreg.coef_[1]\n",
    "print(\"This is the same as %f stars\" % expected_rating_B)"
   ]
  },
  {
   "cell_type": "markdown",
   "metadata": {},
   "source": [
    "# Intermediate homework:\n",
    "- calculate the prediction for 100% pos, and 100% neg review\n",
    "- repeat this same process for \"Apps for Android\" dataset"
   ]
  },
  {
   "cell_type": "markdown",
   "metadata": {},
   "source": [
    "### 100% positive"
   ]
  },
  {
   "cell_type": "code",
   "execution_count": 24,
   "metadata": {
    "collapsed": false
   },
   "outputs": [
    {
     "name": "stdout",
     "output_type": "stream",
     "text": [
      "The expected rating is 7.319701 stars\n",
      "This is the same as 7.319701 stars\n"
     ]
    }
   ],
   "source": [
    "features = [[1, 0]]\n",
    "expected_rating_A = lreg.predict(features)[0]\n",
    "print(\"The expected rating is %f stars\" % expected_rating_A)\n",
    "# we can also compute this explicitly:\n",
    "expected_rating_B = lreg.intercept_ + 1*lreg.coef_[0] + 0*lreg.coef_[1]\n",
    "print(\"This is the same as %f stars\" % expected_rating_B)"
   ]
  },
  {
   "cell_type": "markdown",
   "metadata": {},
   "source": [
    "### 100% negative"
   ]
  },
  {
   "cell_type": "code",
   "execution_count": 25,
   "metadata": {
    "collapsed": false
   },
   "outputs": [
    {
     "name": "stdout",
     "output_type": "stream",
     "text": [
      "The expected rating is -0.390897 stars\n",
      "This is the same as -0.390897 stars\n"
     ]
    }
   ],
   "source": [
    "features = [[0,1]]\n",
    "expected_rating_A = lreg.predict(features)[0]\n",
    "print(\"The expected rating is %f stars\" % expected_rating_A)\n",
    "# we can also compute this explicitly:\n",
    "expected_rating_B = lreg.intercept_ + 0*lreg.coef_[0] + 1*lreg.coef_[1]\n",
    "print(\"This is the same as %f stars\" % expected_rating_B)"
   ]
  },
  {
   "cell_type": "markdown",
   "metadata": {},
   "source": [
    "### Make modified corrected predictor"
   ]
  },
  {
   "cell_type": "code",
   "execution_count": 28,
   "metadata": {
    "collapsed": true
   },
   "outputs": [],
   "source": [
    "def predict_lreg(features):\n",
    "    expected_rating = lreg.predict(features)\n",
    "    expected_rating[expected_rating > 5.0] = 5.0\n",
    "    expected_rating[expected_rating < 1.0] = 1.0\n",
    "    return expected_rating\n",
    "\n",
    "pred_train = predict_lreg(X_train) ##predicted the whole training set"
   ]
  },
  {
   "cell_type": "markdown",
   "metadata": {},
   "source": [
    "### Trying the extremes again: \n",
    "(max 5 star, min 1 star)"
   ]
  },
  {
   "cell_type": "code",
   "execution_count": 26,
   "metadata": {
    "collapsed": false
   },
   "outputs": [
    {
     "data": {
      "text/plain": [
       "array([5.])"
      ]
     },
     "execution_count": 26,
     "metadata": {},
     "output_type": "execute_result"
    }
   ],
   "source": [
    "predict_lreg([[1,0]]) #100% pos"
   ]
  },
  {
   "cell_type": "code",
   "execution_count": 27,
   "metadata": {
    "collapsed": false
   },
   "outputs": [
    {
     "data": {
      "text/plain": [
       "array([1.])"
      ]
     },
     "execution_count": 27,
     "metadata": {},
     "output_type": "execute_result"
    }
   ],
   "source": [
    "predict_lreg([[0,1]]) #100% pos"
   ]
  },
  {
   "cell_type": "markdown",
   "metadata": {},
   "source": [
    "### Manual error checking"
   ]
  },
  {
   "cell_type": "code",
   "execution_count": 30,
   "metadata": {
    "collapsed": false
   },
   "outputs": [
    {
     "name": "stdout",
     "output_type": "stream",
     "text": [
      "Training example number 0\n",
      "True rating = 3.000000 stars, expected rating = 4.230862 stars\n",
      "Features = 0.181818 / 0.000000\n",
      "Review text = Loves the song, so he really couldn't wait to play this. A little less interesting for him so he doesn't play long, but he is almost 3 and likes to play the older games, but really cute for a younger child.\n",
      "Training example number 10000\n",
      "True rating = 3.000000 stars, expected rating = 3.996347 stars\n",
      "Features = 0.250000 / 0.125000\n",
      "Review text = Repetitive after a few levels. Explosions should be more powerful. Its ok but could be better. that is all I have to say.\n",
      "Training example number 20000\n",
      "True rating = 4.000000 stars, expected rating = 3.824102 stars\n",
      "Features = 0.074074 / 0.000000\n",
      "Review text = This app works quite well on my Kindle Fire. It also manages to view some folders that don't even show up on some of the other file management apps I've tried.The only feature it could use is the ability to select multiple files if you need to move/delete them.\n",
      "Training example number 30000\n",
      "True rating = 5.000000 stars, expected rating = 3.538736 stars\n",
      "Features = 0.035714 / 0.035714\n",
      "Review text = Have XM radio in the car while driving. Usually miss the ending. But with this I get the whole show while I relaxing and taking a shower..This is the best app I've ever had. Use while waiting for the doc and last week me and the doc listened to Dragnet. He's putting it on his devise too...\n",
      "Training example number 50000\n",
      "True rating = 1.000000 stars, expected rating = 3.408752 stars\n",
      "Features = 0.000000 / 0.034483\n",
      "Review text = Decided to give this app a shot, but after settings up servers (and typing them in myself), I can't input text into any field using the Droid X's stock multi-touch keyboard, native Swype keyboard, or Korean IME keyboard.  Leaving it installed but frozen for the time being.\n"
     ]
    }
   ],
   "source": [
    "def analyze_training_example(i):\n",
    "    print(\"Training example number\", i)\n",
    "    print(\"True rating = %f stars, expected rating = %f stars\" % (Y_train[i], \n",
    "                                                                  pred_train[i]))\n",
    "    print(\"Features = %f / %f\" % (X_train[i,0], X_train[i,1]))\n",
    "    print(\"Review text = %s\" % apps_train[i]['reviewText'])\n",
    "\n",
    "for i in [0, 10000, 20000, 30000, 50000]: #some random numbers\n",
    "    analyze_training_example(i)"
   ]
  },
  {
   "cell_type": "code",
   "execution_count": 31,
   "metadata": {
    "collapsed": false
   },
   "outputs": [
    {
     "name": "stdout",
     "output_type": "stream",
     "text": [
      "['miss', 'best']\n",
      "[]\n"
     ]
    }
   ],
   "source": [
    "#trying to see why the predictor predicts 3.538736 star to a 5 star, in number 30000\n",
    "str=\"Have XM radio in the car while driving. Usually miss the ending. But with this I get the whole show while I relaxing and taking a shower..This is the best appI've ever had. Use while waiting for the doc and last week me and the doc listened to Dragnet. He's putting it on his devise too\"\n",
    "\n",
    "def pos_neg_words_show(text):\n",
    "    tokens = my_tokenize(text)\n",
    "    pos=[]\n",
    "    neg=[]\n",
    "    for t in tokens:\n",
    "        if t in positive_words:\n",
    "            pos.append(t)\n",
    "        if t in negative_words:\n",
    "            pos.append(t)\n",
    "    print(pos)\n",
    "    print(neg)\n",
    "\n",
    "pos_neg_words_show(str)"
   ]
  },
  {
   "cell_type": "markdown",
   "metadata": {},
   "source": [
    "so looks like the above example simply didnt have enough \"Positive\" words. so \"no negative words\" didnt help improve the rating"
   ]
  },
  {
   "cell_type": "code",
   "execution_count": 36,
   "metadata": {
    "collapsed": false
   },
   "outputs": [
    {
     "name": "stdout",
     "output_type": "stream",
     "text": [
      "The mean absolute error on the training data is 0.992480 stars\n"
     ]
    }
   ],
   "source": [
    "from  sklearn.metrics import mean_absolute_error\n",
    "mae_train = mean_absolute_error(pred_train, Y_train)\n",
    "print(\"The mean absolute error on the training data is %f stars\" % mae_train)"
   ]
  },
  {
   "cell_type": "markdown",
   "metadata": {},
   "source": [
    "# 99.248% ERROR !!! So Useless!!!"
   ]
  }
 ],
 "metadata": {
  "kernelspec": {
   "display_name": "Python 3",
   "language": "python",
   "name": "python3"
  },
  "language_info": {
   "codemirror_mode": {
    "name": "ipython",
    "version": 3
   },
   "file_extension": ".py",
   "mimetype": "text/x-python",
   "name": "python",
   "nbconvert_exporter": "python",
   "pygments_lexer": "ipython3",
   "version": "3.7.0"
  }
 },
 "nbformat": 4,
 "nbformat_minor": 0
}
