{
 "cells": [
  {
   "cell_type": "markdown",
   "metadata": {},
   "source": [
    "# 1 Million Women To Tech:  Summer of Code\n",
    "\n",
    "## Week 3 - Intro to NLP \n",
    "\n",
    "### Day 1\n",
    "\n",
    "### Chapter 0. - Preface \n",
    "\n",
    "http://www.nltk.org/book/ch00.html"
   ]
  },
  {
   "cell_type": "code",
   "execution_count": 2,
   "metadata": {
    "collapsed": false
   },
   "outputs": [
    {
     "name": "stdout",
     "output_type": "stream",
     "text": [
      "loving\n",
      "eclipsing\n",
      "contemplating\n",
      "coding\n",
      "coding\n",
      "typing\n",
      "creating\n",
      "testing\n",
      "innovating-waterskiing!smiling.panicking\n",
      "pythoning\n"
     ]
    }
   ],
   "source": [
    "%matplotlib inline\n",
    "import nltk\n",
    "import numpy\n",
    "import matplotlib\n",
    "\n",
    "# https://stackoverflow.com/questions/19410042/how-to-make-ipython-notebook-matplotlib-plot-inline\n",
    "\n",
    "for line in open(\"file.txt\"):\n",
    "    for word in line.split():\n",
    "        if word.endswith('ing'):\n",
    "            print(word)"
   ]
  },
  {
   "cell_type": "markdown",
   "metadata": {},
   "source": [
    "### Chapter 1. - Language Processing and Python\n",
    "\n",
    "http://www.nltk.org/book/ch01.html"
   ]
  },
  {
   "cell_type": "code",
   "execution_count": 3,
   "metadata": {
    "collapsed": false
   },
   "outputs": [
    {
     "name": "stdout",
     "output_type": "stream",
     "text": [
      "*** Introductory Examples for the NLTK Book ***\n",
      "Loading text1, ..., text9 and sent1, ..., sent9\n",
      "Type the name of the text or sentence to view it.\n",
      "Type: 'texts()' or 'sents()' to list the materials.\n",
      "text1: Moby Dick by Herman Melville 1851\n",
      "text2: Sense and Sensibility by Jane Austen 1811\n",
      "text3: The Book of Genesis\n",
      "text4: Inaugural Address Corpus\n",
      "text5: Chat Corpus\n",
      "text6: Monty Python and the Holy Grail\n",
      "text7: Wall Street Journal\n",
      "text8: Personals Corpus\n",
      "text9: The Man Who Was Thursday by G . K . Chesterton 1908\n"
     ]
    }
   ],
   "source": [
    "\n",
    "# * means 'everything' or 'all'\n",
    "from nltk.book import *"
   ]
  },
  {
   "cell_type": "code",
   "execution_count": 8,
   "metadata": {
    "collapsed": false
   },
   "outputs": [
    {
     "name": "stdout",
     "output_type": "stream",
     "text": [
      "text1: Moby Dick by Herman Melville 1851\n",
      "text2: Sense and Sensibility by Jane Austen 1811\n",
      "text3: The Book of Genesis\n",
      "text4: Inaugural Address Corpus\n",
      "text5: Chat Corpus\n",
      "text6: Monty Python and the Holy Grail\n",
      "text7: Wall Street Journal\n",
      "text8: Personals Corpus\n",
      "text9: The Man Who Was Thursday by G . K . Chesterton 1908\n"
     ]
    }
   ],
   "source": [
    "texts()"
   ]
  },
  {
   "cell_type": "code",
   "execution_count": 9,
   "metadata": {
    "collapsed": false
   },
   "outputs": [
    {
     "data": {
      "text/plain": [
       "<Text: Moby Dick by Herman Melville 1851>"
      ]
     },
     "execution_count": 9,
     "metadata": {},
     "output_type": "execute_result"
    }
   ],
   "source": [
    "text1"
   ]
  },
  {
   "cell_type": "code",
   "execution_count": 10,
   "metadata": {
    "collapsed": false
   },
   "outputs": [
    {
     "name": "stdout",
     "output_type": "stream",
     "text": [
      "sent1: Call me Ishmael .\n",
      "sent2: The family of Dashwood had long been settled in Sussex .\n",
      "sent3: In the beginning God created the heaven and the earth .\n",
      "sent4: Fellow - Citizens of the Senate and of the House of Representatives :\n",
      "sent5: I have a problem with people PMing me to lol JOIN\n",
      "sent6: SCENE 1 : [ wind ] [ clop clop clop ] KING ARTHUR : Whoa there !\n",
      "sent7: Pierre Vinken , 61 years old , will join the board as a nonexecutive director Nov. 29 .\n",
      "sent8: 25 SEXY MALE , seeks attrac older single lady , for discreet encounters .\n",
      "sent9: THE suburb of Saffron Park lay on the sunset side of London , as red and ragged as a cloud of sunset .\n"
     ]
    }
   ],
   "source": [
    "sents()"
   ]
  },
  {
   "cell_type": "code",
   "execution_count": 13,
   "metadata": {
    "collapsed": false
   },
   "outputs": [
    {
     "name": "stdout",
     "output_type": "stream",
     "text": [
      "Displaying 11 of 11 matches:\n",
      "ong the former , one was of a most monstrous size . ... This came towards us , \n",
      "ON OF THE PSALMS . \" Touching that monstrous bulk of the whale or ork we have r\n",
      "ll over with a heathenish array of monstrous clubs and spears . Some were thick\n",
      "d as you gazed , and wondered what monstrous cannibal and savage could ever hav\n",
      "that has survived the flood ; most monstrous and most mountainous ! That Himmal\n",
      "they might scout at Moby Dick as a monstrous fable , or still worse and more de\n",
      "th of Radney .'\" CHAPTER 55 Of the Monstrous Pictures of Whales . I shall ere l\n",
      "ing Scenes . In connexion with the monstrous pictures of whales , I am strongly\n",
      "ere to enter upon those still more monstrous stories of them which are to be fo\n",
      "ght have been rummaged out of this monstrous cabinet there is no telling . But \n",
      "of Whale - Bones ; for Whales of a monstrous size are oftentimes cast up dead u\n"
     ]
    }
   ],
   "source": [
    "text1.concordance(\"monstrous\")"
   ]
  },
  {
   "cell_type": "code",
   "execution_count": 17,
   "metadata": {
    "collapsed": false
   },
   "outputs": [
    {
     "name": "stdout",
     "output_type": "stream",
     "text": [
      "Displaying 25 of 25 matches:\n",
      "els sing ] Arthur , this is the Holy Grail . Look well , Arthur , for it is you\n",
      " it is your sacred task to seek this grail . That is your purpose , Arthur ... \n",
      " , Arthur ... the quest for the Holy Grail . [ boom ] [ singing stops ] LAUNCEL\n",
      "an join us in our quest for the Holy Grail . FRENCH GUARD : Well , I ' ll ask h\n",
      "ARTHUR : If you will not show us the Grail , we shall take your castle by force\n",
      "s required if the quest for the Holy Grail were to be brought to a successful c\n",
      "should separate , and search for the Grail individually . [ clop clop clop ] No\n",
      "AD : You are the keepers of the Holy Grail ? ZOOT : The what ? GALAHAD : The Gr\n",
      "il ? ZOOT : The what ? GALAHAD : The Grail . It is here . ZOOT : Oh , but you a\n",
      "ease ! In God ' s name , show me the Grail ! ZOOT : Oh , you have suffered much\n",
      "rment me no longer . I have seen the Grail ! PIGLET : There ' s no grail here .\n",
      "en the Grail ! PIGLET : There ' s no grail here . GALAHAD : I have seen it ! I \n",
      "are you going ? GALAHAD : I seek the Grail ! I have seen it , here in this cast\n",
      " which , I have just remembered , is grail - shaped . It ' s not the first time\n",
      "blem . GALAHAD : It ' s not the real Grail ? DINGO : Oh , wicked , bad , naught\n",
      "ne punishment for setting alight the grail - shaped beacon . You must tie her d\n",
      " : No , we ' ve got to find the Holy Grail . Come on ! GALAHAD : Oh , let me ha\n",
      " , but they were still no nearer the Grail . Meanwhile , King Arthur and Sir Be\n",
      " of whom you speak , he has seen the Grail ? OLD MAN : ... Ha ha ha ha ! Heh , \n",
      "o man has entered . ARTHUR : And the Grail . The Grail is there ? OLD MAN : The\n",
      "tered . ARTHUR : And the Grail . The Grail is there ? OLD MAN : There is much d\n",
      " has ever crossed . ARTHUR : But the Grail ! Where is the Grail ?! OLD MAN : Se\n",
      "RTHUR : But the Grail ! Where is the Grail ?! OLD MAN : Seek you the Bridge of \n",
      "Bridge of Death , which leads to the Grail ? OLD MAN : Heh , hee hee hee hee ! \n",
      "e the sign that leads us to the Holy Grail ! Brave , brave Concorde , you shall\n"
     ]
    }
   ],
   "source": [
    "text6.concordance(\"Grail\")"
   ]
  },
  {
   "cell_type": "code",
   "execution_count": 33,
   "metadata": {
    "collapsed": false
   },
   "outputs": [
    {
     "name": "stdout",
     "output_type": "stream",
     "text": [
      "Displaying 21 of 21 matches:\n",
      "D God had taken from man , made he a woman , and brought her unto the man . And\n",
      " flesh of my fle she shall be called Woman , because she was taken out of Man .\n",
      " God had made . And he said unto the woman , Yea , hath God said , Ye shall not\n",
      "f every tree of the garden ? And the woman said unto the serpent , We may eat o\n",
      " die . And the serpent said unto the woman , Ye shall not surely die : For God \n",
      "knowing good and evil . And when the woman saw that the tree was good for food \n",
      "est not eat ? And the man said , The woman whom thou gavest to be with me , she\n",
      "eat . And the LORD God said unto the woman , What is this that thou hast done ?\n",
      "s this that thou hast done ? And the woman said , The serpent beguiled me , and\n",
      "will put enmity between thee and the woman , and between thy seed and her seed \n",
      "hou shalt bruise his heel . Unto the woman he said , I will greatly multiply th\n",
      "ld now , I know that thou art a fair woman to look up Therefore it shall come t\n",
      "nto Egypt , the Egyptians beheld the woman that she was very fair . The princes\n",
      "d commended her before Phara and the woman was taken into Pharaoh ' s house . A\n",
      " , thou art but a dead man , for the woman which thou hast taken ; for she is a\n",
      "ant said unto him , Peradventure the woman will not be willing to follow me unt\n",
      "unto my son from thence . And if the woman will not be willing to follow thee ,\n",
      "id unto my master , Peradventure the woman will not follow me . And he said unt\n",
      "raw for thy came let the same be the woman whom the LORD hath appointed out for\n",
      "ite , to receive his pledge from the woman ' s ha but he found her not . Then h\n",
      ", and Shaul the son of a Canaanitish woman . And the sons of Levi ; Gershon , K\n"
     ]
    },
    {
     "ename": "TypeError",
     "evalue": "'NoneType' object is not subscriptable",
     "output_type": "error",
     "traceback": [
      "\u001b[0;31m---------------------------------------------------------------------------\u001b[0m",
      "\u001b[0;31mTypeError\u001b[0m                                 Traceback (most recent call last)",
      "\u001b[0;32m<ipython-input-33-0bbbe733c143>\u001b[0m in \u001b[0;36m<module>\u001b[0;34m()\u001b[0m\n\u001b[1;32m      2\u001b[0m \u001b[0;31m# search term was found on? - Elle J\u001b[0m\u001b[0;34m\u001b[0m\u001b[0;34m\u001b[0m\u001b[0m\n\u001b[1;32m      3\u001b[0m \u001b[0;34m\u001b[0m\u001b[0m\n\u001b[0;32m----> 4\u001b[0;31m \u001b[0mtext3\u001b[0m\u001b[0;34m.\u001b[0m\u001b[0mconcordance\u001b[0m\u001b[0;34m(\u001b[0m\u001b[0;34m\"woman\"\u001b[0m\u001b[0;34m)\u001b[0m\u001b[0;34m[\u001b[0m\u001b[0;34m:\u001b[0m\u001b[0;34m-\u001b[0m\u001b[0;36m1\u001b[0m\u001b[0;34m]\u001b[0m\u001b[0;34m\u001b[0m\u001b[0m\n\u001b[0m",
      "\u001b[0;31mTypeError\u001b[0m: 'NoneType' object is not subscriptable"
     ]
    }
   ],
   "source": [
    "#​Is there a way for the output to display which line the \n",
    "# search term was found on? - Elle J\n",
    "\n",
    "text3.concordance(\"woman\")"
   ]
  },
  {
   "cell_type": "code",
   "execution_count": 22,
   "metadata": {
    "collapsed": false
   },
   "outputs": [
    {
     "ename": "SyntaxError",
     "evalue": "invalid syntax (<ipython-input-22-25770538252a>, line 3)",
     "output_type": "error",
     "traceback": [
      "\u001b[0;36m  File \u001b[0;32m\"<ipython-input-22-25770538252a>\"\u001b[0;36m, line \u001b[0;32m3\u001b[0m\n\u001b[0;31m    Traceback (most recent call last):\u001b[0m\n\u001b[0m                         ^\u001b[0m\n\u001b[0;31mSyntaxError\u001b[0m\u001b[0;31m:\u001b[0m invalid syntax\n"
     ]
    }
   ],
   "source": [
    ">>> text_a = \"woman man woman\"\n",
    ">>> text_a.concordance(\"woman\")\n",
    "Traceback (most recent call last):\n",
    "  File \"<stdin>\", line 1, in <module>\n",
    "AttributeError: 'str' object has no attribute 'concordance'"
   ]
  },
  {
   "cell_type": "code",
   "execution_count": 23,
   "metadata": {
    "collapsed": false
   },
   "outputs": [
    {
     "data": {
      "text/plain": [
       "<Text: Moby Dick by Herman Melville 1851>"
      ]
     },
     "execution_count": 23,
     "metadata": {},
     "output_type": "execute_result"
    }
   ],
   "source": [
    "text1"
   ]
  },
  {
   "cell_type": "markdown",
   "metadata": {},
   "source": [
    "Optional HW: write your own concordance()"
   ]
  },
  {
   "cell_type": "code",
   "execution_count": 4,
   "metadata": {
    "collapsed": false
   },
   "outputs": [
    {
     "data": {
      "image/png": "[encoded data removed]",
      "text/plain": [
       "<matplotlib.figure.Figure at 0x123a6d5c0>"
      ]
     },
     "metadata": {},
     "output_type": "display_data"
    }
   ],
   "source": [
    "text4.dispersion_plot([\"woman\", \"women\", \"man\", \"men\", \"family\", \"kid\", \"kids\", \"child\", \"children\"])\n",
    "\n",
    "# check the dispersion plot for \"woman\", \"women\", \"child\", \"family\""
   ]
  },
  {
   "cell_type": "code",
   "execution_count": 7,
   "metadata": {
    "collapsed": false
   },
   "outputs": [],
   "source": [
    "total_number_of_words = len(text4)"
   ]
  },
  {
   "cell_type": "code",
   "execution_count": 8,
   "metadata": {
    "collapsed": false
   },
   "outputs": [],
   "source": [
    "number_of_unique_words = len(set(text4))"
   ]
  },
  {
   "cell_type": "code",
   "execution_count": 9,
   "metadata": {
    "collapsed": false
   },
   "outputs": [
    {
     "data": {
      "text/plain": [
       "0.06692970116993173"
      ]
     },
     "execution_count": 9,
     "metadata": {},
     "output_type": "execute_result"
    }
   ],
   "source": [
    "number_of_unique_words / total_number_of_words"
   ]
  },
  {
   "cell_type": "code",
   "execution_count": 10,
   "metadata": {
    "collapsed": false
   },
   "outputs": [
    {
     "data": {
      "text/plain": [
       "14.941049825712529"
      ]
     },
     "execution_count": 10,
     "metadata": {},
     "output_type": "execute_result"
    }
   ],
   "source": [
    "total_number_of_words / number_of_unique_words"
   ]
  },
  {
   "cell_type": "code",
   "execution_count": 11,
   "metadata": {
    "collapsed": false
   },
   "outputs": [
    {
     "name": "stdout",
     "output_type": "stream",
     "text": [
      "old_, mortal_, old_of old_' a_'\n"
     ]
    }
   ],
   "source": [
    "# Virginia Balseiro​when you get to context, \n",
    "# run a common_context for [\"man\", \"woman\"] in \n",
    "# melville and austen and compare. blew my mind.\n",
    "\n",
    "text1.common_contexts([\"woman\", \"man\"])"
   ]
  },
  {
   "cell_type": "code",
   "execution_count": 13,
   "metadata": {
    "collapsed": false
   },
   "outputs": [
    {
     "name": "stdout",
     "output_type": "stream",
     "text": [
      "young_, young_of young_. a_as young_who a_whose charming_, a_of a_who\n",
      "a_to of_, a_whom other_in a_, respectable_, a_in\n"
     ]
    }
   ],
   "source": [
    "text2.common_contexts([\"woman\", \"man\"])"
   ]
  },
  {
   "cell_type": "code",
   "execution_count": 15,
   "metadata": {
    "collapsed": false
   },
   "outputs": [
    {
     "name": "stdout",
     "output_type": "stream",
     "text": [
      "<FreqDist with 6833 samples and 141576 outcomes>\n"
     ]
    }
   ],
   "source": [
    "fdist2 = FreqDist(text2)\n",
    "print(fdist2)"
   ]
  },
  {
   "cell_type": "code",
   "execution_count": 17,
   "metadata": {
    "collapsed": false
   },
   "outputs": [
    {
     "data": {
      "text/plain": [
       "[(',', 9397),\n",
       " ('to', 4063),\n",
       " ('.', 3975),\n",
       " ('the', 3861),\n",
       " ('of', 3565),\n",
       " ('and', 3350),\n",
       " ('her', 2436),\n",
       " ('a', 2043),\n",
       " ('I', 2004),\n",
       " ('in', 1904),\n",
       " ('was', 1846),\n",
       " ('it', 1568),\n",
       " ('\"', 1506),\n",
       " (';', 1419),\n",
       " ('she', 1333),\n",
       " ('be', 1305),\n",
       " ('that', 1297),\n",
       " ('for', 1234),\n",
       " ('not', 1212),\n",
       " ('as', 1179),\n",
       " ('you', 1037),\n",
       " ('with', 971),\n",
       " ('had', 969),\n",
       " ('his', 941),\n",
       " ('he', 895),\n",
       " (\"'\", 883),\n",
       " ('have', 807),\n",
       " ('at', 806),\n",
       " ('by', 737),\n",
       " ('is', 728),\n",
       " ('.\"', 721),\n",
       " ('s', 700),\n",
       " ('Elinor', 684),\n",
       " ('on', 676),\n",
       " ('all', 642),\n",
       " ('him', 633),\n",
       " ('so', 617),\n",
       " ('but', 597),\n",
       " ('which', 592),\n",
       " ('could', 568),\n",
       " ('Marianne', 566),\n",
       " ('my', 551),\n",
       " ('Mrs', 530),\n",
       " ('from', 527),\n",
       " ('would', 507),\n",
       " ('very', 492),\n",
       " ('no', 488),\n",
       " ('their', 463),\n",
       " ('them', 462),\n",
       " ('--', 461),\n",
       " ('been', 440),\n",
       " ('were', 437),\n",
       " ('me', 433),\n",
       " ('they', 428),\n",
       " ('more', 406),\n",
       " ('said', 397),\n",
       " (',\"', 396),\n",
       " ('any', 389),\n",
       " ('what', 375),\n",
       " ('this', 372),\n",
       " ('-', 366),\n",
       " ('every', 361),\n",
       " ('than', 360),\n",
       " ('will', 354),\n",
       " ('or', 353),\n",
       " ('your', 347),\n",
       " ('an', 346),\n",
       " ('such', 340),\n",
       " ('one', 304),\n",
       " ('do', 296),\n",
       " ('But', 289),\n",
       " ('!', 289),\n",
       " ('much', 287),\n",
       " ('only', 282),\n",
       " ('sister', 282),\n",
       " ('must', 279),\n",
       " ('own', 271),\n",
       " ('am', 270),\n",
       " ('Edward', 262),\n",
       " ('when', 261),\n",
       " ('who', 260),\n",
       " ('mother', 258),\n",
       " ('She', 258),\n",
       " ('herself', 255),\n",
       " ('Dashwood', 252),\n",
       " ('if', 249),\n",
       " ('The', 243),\n",
       " ('time', 237),\n",
       " ('Jennings', 230),\n",
       " ('know', 230),\n",
       " ('should', 228),\n",
       " ('are', 224),\n",
       " ('Willoughby', 215),\n",
       " ('might', 215),\n",
       " ('?\"', 213),\n",
       " ('did', 211),\n",
       " ('now', 210),\n",
       " ('think', 209),\n",
       " ('there', 209),\n",
       " ('Miss', 208)]"
      ]
     },
     "execution_count": 17,
     "metadata": {},
     "output_type": "execute_result"
    }
   ],
   "source": [
    "fdist2.most_common(100)"
   ]
  },
  {
   "cell_type": "code",
   "execution_count": null,
   "metadata": {
    "collapsed": true
   },
   "outputs": [],
   "source": [
    "# practice with table 4.2 "
   ]
  },
  {
   "cell_type": "markdown",
   "metadata": {},
   "source": [
    "For Certification we require you to submit a file with solutions \n",
    "to Exercises #5 and #6 \n",
    "\n",
    "☼ Compare the lexical diversity scores for humor and romance fiction in 1.1. Which genre is more lexically diverse?\n",
    "\n",
    "☼ Produce a dispersion plot of the four main protagonists in Sense and Sensibility: Elinor, Marianne, Edward, and Willoughby. What can you observe about the different roles played by the males and females in this novel? Can you identify the couples?"
   ]
  },
  {
   "cell_type": "markdown",
   "metadata": {},
   "source": [
    "From the Q&A\n",
    "\n",
    "Client-Server Architecture, also demonstrates Front End vs Back End engineers' jobs\n",
    "- https://www.scnsoft.com/blog-pictures/web-apps/web_application_architecture-03.png\n",
    "\n",
    "Linting your code: having automatic code cleanup\n",
    "- https://www.pylint.org/"
   ]
  }
 ],
 "metadata": {
  "kernelspec": {
   "display_name": "Python 3",
   "language": "python",
   "name": "python3"
  },
  "language_info": {
   "codemirror_mode": {
    "name": "ipython",
    "version": 3
   },
   "file_extension": ".py",
   "mimetype": "text/x-python",
   "name": "python",
   "nbconvert_exporter": "python",
   "pygments_lexer": "ipython3",
   "version": "3.5.1"
  }
 },
 "nbformat": 4,
 "nbformat_minor": 0
}
