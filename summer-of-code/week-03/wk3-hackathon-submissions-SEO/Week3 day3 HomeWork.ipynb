{
 "cells": [
  {
   "cell_type": "code",
   "execution_count": 1,
   "metadata": {
    "collapsed": true
   },
   "outputs": [],
   "source": [
    "import nltk\n",
    "import numpy\n",
    "import matplotlib\n",
    "import re\n",
    "from nltk.corpus import wordnet as wn\n",
    "%matplotlib inline"
   ]
  },
  {
   "cell_type": "markdown",
   "metadata": {},
   "source": [
    "## Problem 5"
   ]
  },
  {
   "cell_type": "markdown",
   "metadata": {},
   "source": [
    "\n",
    "# Homework\n",
    "Do research to see what Python libraries are already in existence that you could start using in your day-job, or daily life.\n",
    "\n",
    "Exercises on WordNet\n",
    "\n",
    "#5 ☼ Investigate the holonym-meronym relations for some nouns. Remember that there are three kinds of holonym-meronym relation, so you need to use: member_meronyms(), part_meronyms(), substance_meronyms(), member_holonyms(), part_holonyms(), and substance_holonyms().\n",
    "#13 ◑ What percentage of noun synsets have no hyponyms? You can get all noun synsets using wn.all_synsets('n').\n",
    "#14 ◑ Define a function supergloss(s) that takes a synset s as its argument and returns a string consisting of the concatenation of the definition of s, and the definitions of all the hypernyms and hyponyms of s.\n",
    "\n",
    "# Optional\n",
    "For those of you more advanced, try implementing\n",
    "\n",
    "#23 ★ Zipf's Law: Let f(w) be the frequency of a word w in free text. Suppose that all the words of a text are ranked according to their frequency, with the most frequent word first. Zipf's law states that the frequency of a word type is inversely proportional to its rank (i.e. f × r = k, for some constant k). For example, the 50th most common word type should occur three times as frequently as the 150th most common word type.\n",
    "\n",
    "Write a function to process a large text and plot word frequency against word rank using pylab.plot. Do you confirm Zipf's law? (Hint: it helps to use a logarithmic scale). What is going on at the extreme ends of the plotted line?\n",
    "\n",
    "Generate random text, e.g., using random.choice(\"abcdefg \"), taking care to include the space character. You will need to import random first. Use the string concatenation operator to accumulate characters into a (very) long string. Then tokenize this string, and generate the Zipf plot as before, and compare the two plots. What do you make of Zipf's Law in the light of this?"
   ]
  },
  {
   "cell_type": "code",
   "execution_count": 5,
   "metadata": {
    "collapsed": false
   },
   "outputs": [],
   "source": [
    "book=wn.synsets('book')\n",
    "headphone=wn.synsets('headphone')\n",
    "mouse=wn.synsets('mouse')"
   ]
  },
  {
   "cell_type": "code",
   "execution_count": 6,
   "metadata": {
    "collapsed": false
   },
   "outputs": [
    {
     "data": {
      "text/plain": [
       "[Synset('mouse.n.01'),\n",
       " Synset('shiner.n.01'),\n",
       " Synset('mouse.n.03'),\n",
       " Synset('mouse.n.04'),\n",
       " Synset('sneak.v.01'),\n",
       " Synset('mouse.v.02')]"
      ]
     },
     "execution_count": 6,
     "metadata": {},
     "output_type": "execute_result"
    }
   ],
   "source": [
    "mouse"
   ]
  },
  {
   "cell_type": "code",
   "execution_count": 7,
   "metadata": {
    "collapsed": false
   },
   "outputs": [
    {
     "data": {
      "text/plain": [
       "[Synset('book.n.01'),\n",
       " Synset('book.n.02'),\n",
       " Synset('record.n.05'),\n",
       " Synset('script.n.01'),\n",
       " Synset('ledger.n.01'),\n",
       " Synset('book.n.06'),\n",
       " Synset('book.n.07'),\n",
       " Synset('koran.n.01'),\n",
       " Synset('bible.n.01'),\n",
       " Synset('book.n.10'),\n",
       " Synset('book.n.11'),\n",
       " Synset('book.v.01'),\n",
       " Synset('reserve.v.04'),\n",
       " Synset('book.v.03'),\n",
       " Synset('book.v.04')]"
      ]
     },
     "execution_count": 7,
     "metadata": {},
     "output_type": "execute_result"
    }
   ],
   "source": [
    "book"
   ]
  },
  {
   "cell_type": "code",
   "execution_count": 8,
   "metadata": {
    "collapsed": false
   },
   "outputs": [
    {
     "data": {
      "text/plain": [
       "[Synset('earphone.n.01')]"
      ]
     },
     "execution_count": 8,
     "metadata": {},
     "output_type": "execute_result"
    }
   ],
   "source": [
    "headphone"
   ]
  },
  {
   "cell_type": "code",
   "execution_count": 31,
   "metadata": {
    "collapsed": false
   },
   "outputs": [
    {
     "name": "stdout",
     "output_type": "stream",
     "text": [
      "##  Synset('mouse.n.01')  :  any of numerous small rodents typically resembling diminutive rats having pointed snouts and small ears on elongated bodies with slender usually hairless tails\n",
      "parts  []\n",
      "substance  []\n",
      "member  []\n",
      "##  Synset('shiner.n.01')  :  a swollen bruise caused by a blow to the eye\n",
      "parts  []\n",
      "substance  []\n",
      "member  []\n",
      "##  Synset('mouse.n.03')  :  person who is quiet or timid\n",
      "parts  []\n",
      "substance  []\n",
      "member  []\n",
      "##  Synset('mouse.n.04')  :  a hand-operated electronic device that controls the coordinates of a cursor on your computer screen as you move it around on a pad; on the bottom of the device is a ball that rolls on the surface of the pad\n",
      "parts  [Synset('mouse_button.n.01')]\n",
      "substance  []\n",
      "member  []\n",
      "##  Synset('sneak.v.01')  :  to go stealthily or furtively\n",
      "parts  []\n",
      "substance  []\n",
      "member  []\n",
      "##  Synset('mouse.v.02')  :  manipulate the mouse of a computer\n",
      "parts  []\n",
      "substance  []\n",
      "member  []\n"
     ]
    }
   ],
   "source": [
    "for syn in mouse:\n",
    "    print(\"## \",syn,\" : \",syn.definition())\n",
    "    print(\"parts \",syn.part_meronyms())\n",
    "    print(\"substance \",syn.substance_meronyms())\n",
    "    print(\"member \",syn.member_meronyms())"
   ]
  },
  {
   "cell_type": "code",
   "execution_count": 32,
   "metadata": {
    "collapsed": false
   },
   "outputs": [
    {
     "name": "stdout",
     "output_type": "stream",
     "text": [
      "##  Synset('earphone.n.01')  :  electro-acoustic transducer for converting electric signals into sounds; it is held over or inserted into the ear\n",
      "parts  []\n",
      "substance  []\n",
      "member  []\n"
     ]
    }
   ],
   "source": [
    "for syn in headphone:\n",
    "    print(\"## \",syn,\" : \",syn.definition())\n",
    "    print(\"parts \",syn.part_meronyms())\n",
    "    print(\"substance \",syn.substance_meronyms())\n",
    "    print(\"member \",syn.member_meronyms())"
   ]
  },
  {
   "cell_type": "code",
   "execution_count": 33,
   "metadata": {
    "collapsed": false
   },
   "outputs": [
    {
     "name": "stdout",
     "output_type": "stream",
     "text": [
      "##  Synset('book.n.01')  :  a written work or composition that has been published (printed on pages bound together)\n",
      "parts  [Synset('running_head.n.01'), Synset('signature.n.05')]\n",
      "substance  []\n",
      "member  []\n",
      "##  Synset('book.n.02')  :  physical objects consisting of a number of pages bound together\n",
      "parts  [Synset('binding.n.05'), Synset('fore_edge.n.01'), Synset('spine.n.04')]\n",
      "substance  []\n",
      "member  []\n",
      "##  Synset('record.n.05')  :  a compilation of the known facts regarding something or someone\n",
      "parts  []\n",
      "substance  []\n",
      "member  []\n",
      "##  Synset('script.n.01')  :  a written version of a play or other dramatic composition; used in preparing for a performance\n",
      "parts  []\n",
      "substance  []\n",
      "member  []\n",
      "##  Synset('ledger.n.01')  :  a record in which commercial accounts are recorded\n",
      "parts  []\n",
      "substance  []\n",
      "member  [Synset('accounting.n.04')]\n",
      "##  Synset('book.n.06')  :  a collection of playing cards satisfying the rules of a card game\n",
      "parts  []\n",
      "substance  []\n",
      "member  []\n",
      "##  Synset('book.n.07')  :  a collection of rules or prescribed standards on the basis of which decisions are made\n",
      "parts  [Synset('rule.n.03'), Synset('rule.n.08')]\n",
      "substance  []\n",
      "member  []\n",
      "##  Synset('koran.n.01')  :  the sacred writings of Islam revealed by God to the prophet Muhammad during his life at Mecca and Medina\n",
      "parts  [Synset('sura.n.01')]\n",
      "substance  []\n",
      "member  []\n",
      "##  Synset('bible.n.01')  :  the sacred writings of the Christian religions\n",
      "parts  [Synset('new_testament.n.01'), Synset('old_testament.n.01'), Synset('testament.n.04'), Synset('text.n.02')]\n",
      "substance  []\n",
      "member  []\n",
      "##  Synset('book.n.10')  :  a major division of a long written composition\n",
      "parts  []\n",
      "substance  []\n",
      "member  []\n",
      "##  Synset('book.n.11')  :  a number of sheets (ticket or stamps etc.) bound together on one edge\n",
      "parts  []\n",
      "substance  []\n",
      "member  []\n",
      "##  Synset('book.v.01')  :  engage for a performance\n",
      "parts  []\n",
      "substance  []\n",
      "member  []\n",
      "##  Synset('reserve.v.04')  :  arrange for and reserve (something for someone else) in advance\n",
      "parts  []\n",
      "substance  []\n",
      "member  []\n",
      "##  Synset('book.v.03')  :  record a charge in a police register\n",
      "parts  []\n",
      "substance  []\n",
      "member  []\n",
      "##  Synset('book.v.04')  :  register in a hotel booker\n",
      "parts  []\n",
      "substance  []\n",
      "member  []\n"
     ]
    }
   ],
   "source": [
    "for syn in book:\n",
    "    print(\"## \",syn,\" : \",syn.definition())\n",
    "    print(\"parts \",syn.part_meronyms())\n",
    "    print(\"substance \",syn.substance_meronyms())\n",
    "    print(\"member \",syn.member_meronyms())"
   ]
  },
  {
   "cell_type": "markdown",
   "metadata": {},
   "source": [
    "## Problem 13"
   ]
  },
  {
   "cell_type": "code",
   "execution_count": 46,
   "metadata": {
    "collapsed": false
   },
   "outputs": [],
   "source": [
    "all=list(wn.all_synsets('n'))\n",
    "noun_hyponyms= [word for word in all if len(word.hyponyms()) >= 1]"
   ]
  },
  {
   "cell_type": "code",
   "execution_count": 48,
   "metadata": {
    "collapsed": false
   },
   "outputs": [],
   "source": [
    "no_hyponym=len(all)-len(noun_hyponyms)"
   ]
  },
  {
   "cell_type": "code",
   "execution_count": 50,
   "metadata": {
    "collapsed": false
   },
   "outputs": [
    {
     "data": {
      "text/plain": [
       "79.67119283931072"
      ]
     },
     "execution_count": 50,
     "metadata": {},
     "output_type": "execute_result"
    }
   ],
   "source": [
    "# percentage of nouns without hyponyms\n",
    "no_hyponym*100/len(all)"
   ]
  },
  {
   "cell_type": "markdown",
   "metadata": {},
   "source": [
    "## Problem 14"
   ]
  },
  {
   "cell_type": "code",
   "execution_count": 74,
   "metadata": {
    "collapsed": false
   },
   "outputs": [],
   "source": [
    "def supergloss(s):\n",
    "    ret=s.definition()+\"\\n\"\n",
    "    ret+=\" HYPERNYMS: \\n\"\n",
    "    for syn in s.hypernyms():\n",
    "        ret+=syn.definition()+\"\\n\"\n",
    "    ret+=\" HYPONYMS: \\n\"\n",
    "    for syn in s.hyponyms():\n",
    "        ret+=syn.definition()+\"\\n\"\n",
    "    return ret"
   ]
  },
  {
   "cell_type": "code",
   "execution_count": 75,
   "metadata": {
    "collapsed": false
   },
   "outputs": [
    {
     "name": "stdout",
     "output_type": "stream",
     "text": [
      "an adult female person (as opposed to a man)\n",
      " HYPERNYMS: \n",
      "a fully developed person from maturity onward\n",
      "a person who belongs to the sex that can have babies\n",
      " HYPONYMS: \n",
      "a large strong and aggressive woman\n",
      "a woman employed by a bar to act as a companion to men customers\n",
      "a young unmarried woman who lives alone\n",
      "a worthless or immoral woman\n",
      "a demanding woman who destroys men's confidence\n",
      "a woman who is Black\n",
      "a woman having literary or intellectual interests\n",
      "an unmarried woman who attends the bride at a wedding\n",
      "slang term for a woman\n",
      "a spiteful woman gossip\n",
      "a woman whose merits were not been recognized but who then achieves sudden success and recognition\n",
      "a seductive woman who uses her sex appeal to exploit men\n",
      "a woman of refinement\n",
      "a young woman making her debut into society\n",
      "a divorced woman or a woman who is separated from her husband\n",
      "a dominating woman (especially one who plays that role in a sadomasochistic sexual relationship)\n",
      "an Italian woman of rank\n",
      "a woman who is considered to be dangerously seductive\n",
      "a woman who was formerly a particular man's wife\n",
      "a strikingly beautiful woman\n",
      "a Japanese woman trained to entertain men with conversation and singing and dancing\n",
      "a young woman\n",
      "a friendly informal reference to a grown woman\n",
      "any female friend\n",
      "a girl or young woman with whom a man is romantically involved\n",
      "a woman who associates with or marries a rich man in order to get valuables from him through gifts or a divorce settlement\n",
      "a pregnant woman\n",
      "a woman possessing heroic qualities or a woman who has performed heroic deeds\n",
      "a woman with whom you are in love or have an intimate relationship\n",
      "a shameless impudent scheming woman\n",
      "a woman who jilts a lover\n",
      "a polite name for any woman\n",
      "an unnaturally frenzied or distraught woman\n",
      "(Greek mythology) a woman participant in the orgiastic rites of Dionysus\n",
      "a female head of a family or tribe\n",
      "a feisty older woman with a big bosom (as drawn in cartoons)\n",
      "a woman in charge of nursing in a medical institution\n",
      "a woman of mixed racial ancestry (especially mixed European and Native American ancestry)\n",
      "an adulterous woman; a woman who has an ongoing extramarital sexual relationship with a man\n",
      "a woman who evokes the feelings usually reserved for a mother\n",
      "a woman who is the custodian of children\n",
      "(obstetrics) a woman who has never give birth to a child\n",
      "a voluptuously beautiful young woman\n",
      "a sexually attractive young woman\n",
      "a woman who is old\n",
      "a woman who engages in sexual intercourse for money\n",
      "a derogatory term used by Jews to refer to non-Jewish women\n",
      "a very attractive or seductive looking woman\n",
      "a slender graceful young woman\n",
      "a woman who is not married\n",
      "a chaste woman\n",
      "a member of the Women's Army Corps\n",
      "a member of the women's reserve of the United States Navy; originally organized during World War II but now no longer a separate branch\n",
      "a woman who is White\n",
      "a woman whose husband is dead especially one who has not remarried\n",
      "a married woman; a man's partner in marriage\n",
      "a woman who can be a successful wife and have a professional career at the same time\n",
      "offensive term for an Asian woman\n",
      "\n"
     ]
    }
   ],
   "source": [
    "print(supergloss(wn.synset('woman.n.01')))"
   ]
  }
 ],
 "metadata": {
  "kernelspec": {
   "display_name": "Python 3",
   "language": "python",
   "name": "python3"
  },
  "language_info": {
   "codemirror_mode": {
    "name": "ipython",
    "version": 3
   },
   "file_extension": ".py",
   "mimetype": "text/x-python",
   "name": "python",
   "nbconvert_exporter": "python",
   "pygments_lexer": "ipython3",
   "version": "3.7.0"
  }
 },
 "nbformat": 4,
 "nbformat_minor": 0
}
